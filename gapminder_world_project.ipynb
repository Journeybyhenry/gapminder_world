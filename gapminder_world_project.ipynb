{
 "cells": [
  {
   "cell_type": "markdown",
   "metadata": {},
   "source": [
    "\n",
    "# Project: Gapminder Data for Analysis\n",
    "\n",
    "## Table of Contents\n",
    "<ul>\n",
    "<li><a href=\"#intro\">Introduction</a></li>\n",
    "<li><a href=\"#wrangling\">Data Wrangling</a></li>\n",
    "<li><a href=\"#eda\">Exploratory Data Analysis</a></li>\n",
    "<li><a href=\"#conclusions\">Conclusions</a></li>\n",
    "</ul>"
   ]
  },
  {
   "cell_type": "markdown",
   "metadata": {},
   "source": [
    "<a id='intro'></a>\n",
    "## Introduction\n",
    "\n",
    "> For this project, I'm working on Gapminder World Datasets, I downloaded the dataset as csv files therefore there was no need to use a spreedsheet package to export as csv. The dataset provides data for years ranging from 1800 to 2050 (predictions) in some indicator. In this project I will be working with data for 2008 and 2018 only, this giving us a 10 year gap for analysis.\n",
    ">\n",
    "> The indicators for analysis are:\n",
    ">1. Income Variables (independent) - Gross domestic product per person adjusted for differences in purchasing power (Measured in International Dollars)\n",
    "2. Life Expectancy - Measured in Years.\n",
    "3. Babies per Woman - The number of babies that will be born to each woman with the prevailing age-specific fertility rate.\n",
    "4. Working Hours per week - measured in hours. Total yearly amount of working hours divided by 52 weeks.\n",
    "5. Human Development Index - ranges from 0 - 1\n",
    "6. Happiness Score - expressed in Percentage\n",
    ">\n",
    "In the analysis, these are my research questions:\n",
    "1. Which countries recorded the highest income in 2008 and 2018 respectively?\n",
    "2. Do countries that make more Income produce more babies in 2008?\n",
    "3. Which country is the happiest in 2008.\n",
    "4. Are countries who make more Income happier in 2018?\n",
    "5. What sort of correlation exist between the income made in a country and other indicators?\n",
    "6. Which country's income improved the most in 2018 compared to 2008\n",
    "7. Which Continent had the highest income 2018?\n",
    "8. Which African countries had the lowest income in 2018?\n",
    "9. Which country's income improved the most in 2018 compared to 2008?\n"
   ]
  },
  {
   "cell_type": "code",
   "execution_count": 1,
   "metadata": {},
   "outputs": [],
   "source": [
    "# import all required packages and my selected files for analysis\n",
    "import numpy as np\n",
    "import pandas as pd\n",
    "import matplotlib.pyplot as plt\n",
    "import seaborn as sns\n",
    "%matplotlib inline"
   ]
  },
  {
   "cell_type": "markdown",
   "metadata": {},
   "source": [
    "<a id='wrangling'></a>\n",
    "## Data Wrangling\n",
    "\n",
    "> Here I first load the data to Jupyter notebook then extracted the data for 2008 & 2018 for each indicators before merging them together and perform clean the data.\n",
    "\n",
    "### General Properties"
   ]
  },
  {
   "cell_type": "code",
   "execution_count": 2,
   "metadata": {},
   "outputs": [],
   "source": [
    "# loading the csv files\n",
    "df_income = pd.read_csv('income_per_person.csv')\n",
    "df_hdi = pd.read_csv('hdi.csv')\n",
    "df_work = pd.read_csv('working_hours.csv')\n",
    "df_happy = pd.read_csv('happiness_score.csv')\n",
    "df_life = pd.read_csv('life_expectancy.csv')\n",
    "df_child = pd.read_csv('children.csv')"
   ]
  },
  {
   "cell_type": "code",
   "execution_count": 3,
   "metadata": {},
   "outputs": [
    {
     "name": "stdout",
     "output_type": "stream",
     "text": [
      "       country  1800  1801  1802  1803  1804  1805  1806  1807  1808  ...  \\\n",
      "0  Afghanistan   674   674   674   674   674   674   674   674   674  ...   \n",
      "1       Angola   691   693   697   700   702   705   709   712   716  ...   \n",
      "\n",
      "   2041  2042  2043  2044  2045  2046  2047  2048  2049  2050  \n",
      "0  2880  2940  3000  3070  3130  3200  3270  3340  3410  3480  \n",
      "1  8040  8220  8390  8570  8750  8940  9120  9320  9520  9720  \n",
      "\n",
      "[2 rows x 252 columns]\n",
      "       country   1990   1991   1992   1993   1994   1995   1996   1997   1998  \\\n",
      "0  Afghanistan  0.302  0.307  0.316  0.312  0.307  0.331  0.335  0.339  0.344   \n",
      "1       Angola    NaN    NaN    NaN    NaN    NaN    NaN    NaN    NaN    NaN   \n",
      "\n",
      "   ...   2010   2011   2012   2013   2014   2015   2016   2017   2018   2019  \n",
      "0  ...  0.472  0.477  0.489  0.496  0.500  0.500  0.502  0.506  0.509  0.511  \n",
      "1  ...  0.517  0.533  0.544  0.555  0.565  0.572  0.578  0.582  0.582  0.581  \n",
      "\n",
      "[2 rows x 31 columns]\n",
      "       country  1969  1970  1971  1972  1973  1974  1975  1976  1977  ...  \\\n",
      "0        Aruba   NaN   NaN   NaN   NaN   NaN   NaN   NaN   NaN   NaN  ...   \n",
      "1  Afghanistan   NaN   NaN   NaN   NaN   NaN   NaN   NaN   NaN   NaN  ...   \n",
      "\n",
      "   2011  2012  2013  2014  2015  2016  2017  2018  2019  2020  \n",
      "0   NaN   NaN   NaN   NaN   NaN   NaN   NaN   NaN   NaN   NaN  \n",
      "1   NaN   NaN   NaN  37.0   NaN   NaN  38.0   NaN   NaN  39.9  \n",
      "\n",
      "[2 rows x 53 columns]\n",
      "       country  2005  2006  2007  2008  2009  2010  2011  2012  2013  2014  \\\n",
      "0  Afghanistan   NaN   NaN   NaN  37.2  44.0  47.6  38.3  37.8  35.7  31.3   \n",
      "1       Angola   NaN   NaN   NaN   NaN   NaN   NaN  55.9  43.6  39.4  37.9   \n",
      "\n",
      "   2015  2016  2017  2018  2019  \n",
      "0  39.8  42.2  26.6  26.9  25.7  \n",
      "1   NaN   NaN   NaN   NaN   NaN  \n",
      "       country  1800  1801  1802  1803  1804  1805  1806  1807  1808  ...  \\\n",
      "0  Afghanistan  28.2  28.2  28.2  28.2  28.2  28.2  28.1  28.1  28.1  ...   \n",
      "1       Angola  27.0  27.0  27.0  27.0  27.0  27.0  27.0  27.0  27.0  ...   \n",
      "\n",
      "   2091  2092  2093  2094  2095  2096  2097  2098  2099  2100  \n",
      "0  75.5  75.7  75.8  76.0  76.1  76.2  76.4  76.5  76.6  76.8  \n",
      "1  78.8  79.0  79.1  79.2  79.3  79.5  79.6  79.7  79.9  80.0  \n",
      "\n",
      "[2 rows x 302 columns]\n",
      "       country  1800  1801  1802  1803  1804  1805  1806  1807  1808  ...  \\\n",
      "0        Aruba  5.64  5.64  5.64  5.64  5.64  5.64  5.64  5.64  5.64  ...   \n",
      "1  Afghanistan  7.00  7.00  7.00  7.00  7.00  7.00  7.00  7.00  7.00  ...   \n",
      "\n",
      "   2091  2092  2093  2094  2095  2096  2097  2098  2099  2100  \n",
      "0  1.82  1.82  1.82  1.82  1.82  1.82  1.82  1.82  1.83  1.83  \n",
      "1  1.74  1.74  1.74  1.74  1.74  1.74  1.74  1.74  1.74  1.74  \n",
      "\n",
      "[2 rows x 302 columns]\n"
     ]
    }
   ],
   "source": [
    "# print the entire dataset to get a general overview of the data\n",
    "print(df_income.head(2))\n",
    "print(df_hdi.head(2))\n",
    "print(df_work.head(2))\n",
    "print(df_happy.head(2))\n",
    "print(df_life.head(2))\n",
    "print(df_child.head(2))"
   ]
  },
  {
   "cell_type": "markdown",
   "metadata": {},
   "source": [
    "### Extracting each indicator from their respective tables\n",
    "> Here I will extract the indicators required for the Year 2008, after getting the individual indicators then I'll merge them together on one table"
   ]
  },
  {
   "cell_type": "markdown",
   "metadata": {},
   "source": [
    "#### Income Indicator"
   ]
  },
  {
   "cell_type": "code",
   "execution_count": 4,
   "metadata": {},
   "outputs": [
    {
     "name": "stdout",
     "output_type": "stream",
     "text": [
      "Index of the year 2008 column in given dataframe is: 209\n",
      "Index of the year 2018 column in given dataframe is: 219\n"
     ]
    }
   ],
   "source": [
    "# To extract the data for 2008 in the income dataframe\n",
    "# we need to first identify the index_no of both years on the table\n",
    "\n",
    "# give column name\n",
    "column_name1 = \"2008\"\n",
    "column_name2 = \"2018\"\n",
    "  \n",
    "# find the index no\n",
    "index_no1 = df_income.columns.get_loc(column_name1)\n",
    "index_no2 = df_income.columns.get_loc(column_name2)\n",
    "  \n",
    "print(\"Index of the year {} column in given dataframe is: {}\".format(column_name1, index_no1))\n",
    "print(\"Index of the year {} column in given dataframe is: {}\".format(column_name2, index_no2))"
   ]
  },
  {
   "cell_type": "code",
   "execution_count": 5,
   "metadata": {
    "scrolled": true
   },
   "outputs": [
    {
     "name": "stderr",
     "output_type": "stream",
     "text": [
      "C:\\Users\\Henry Adeyemi\\AppData\\Local\\Temp\\ipykernel_4288\\1077171683.py:3: SettingWithCopyWarning: \n",
      "A value is trying to be set on a copy of a slice from a DataFrame\n",
      "\n",
      "See the caveats in the documentation: https://pandas.pydata.org/pandas-docs/stable/user_guide/indexing.html#returning-a-view-versus-a-copy\n",
      "  df_income_08.rename(columns = {'2008' : 'income'}, inplace=True)\n"
     ]
    },
    {
     "data": {
      "text/html": [
       "<div>\n",
       "<style scoped>\n",
       "    .dataframe tbody tr th:only-of-type {\n",
       "        vertical-align: middle;\n",
       "    }\n",
       "\n",
       "    .dataframe tbody tr th {\n",
       "        vertical-align: top;\n",
       "    }\n",
       "\n",
       "    .dataframe thead th {\n",
       "        text-align: right;\n",
       "    }\n",
       "</style>\n",
       "<table border=\"1\" class=\"dataframe\">\n",
       "  <thead>\n",
       "    <tr style=\"text-align: right;\">\n",
       "      <th></th>\n",
       "      <th>country</th>\n",
       "      <th>income</th>\n",
       "    </tr>\n",
       "  </thead>\n",
       "  <tbody>\n",
       "    <tr>\n",
       "      <th>0</th>\n",
       "      <td>Afghanistan</td>\n",
       "      <td>1480</td>\n",
       "    </tr>\n",
       "    <tr>\n",
       "      <th>1</th>\n",
       "      <td>Angola</td>\n",
       "      <td>7820</td>\n",
       "    </tr>\n",
       "    <tr>\n",
       "      <th>2</th>\n",
       "      <td>Albania</td>\n",
       "      <td>9940</td>\n",
       "    </tr>\n",
       "    <tr>\n",
       "      <th>3</th>\n",
       "      <td>Andorra</td>\n",
       "      <td>46.3k</td>\n",
       "    </tr>\n",
       "    <tr>\n",
       "      <th>4</th>\n",
       "      <td>United Arab Emirates</td>\n",
       "      <td>68.8k</td>\n",
       "    </tr>\n",
       "  </tbody>\n",
       "</table>\n",
       "</div>"
      ],
      "text/plain": [
       "                country income\n",
       "0           Afghanistan   1480\n",
       "1                Angola   7820\n",
       "2               Albania   9940\n",
       "3               Andorra  46.3k\n",
       "4  United Arab Emirates  68.8k"
      ]
     },
     "execution_count": 5,
     "metadata": {},
     "output_type": "execute_result"
    }
   ],
   "source": [
    "# extracting the income for the year 2008\n",
    "df_income_08 = df_income.iloc[:, np.r_[:1, 209]]\n",
    "df_income_08.rename(columns = {'2008' : 'income'}, inplace=True)\n",
    "df_income_08.head()"
   ]
  },
  {
   "cell_type": "markdown",
   "metadata": {},
   "source": [
    "#### Human Development Index (HDI) indicator"
   ]
  },
  {
   "cell_type": "code",
   "execution_count": 6,
   "metadata": {},
   "outputs": [
    {
     "name": "stdout",
     "output_type": "stream",
     "text": [
      "Index of the year 2008 column in given dataframe is: 19\n",
      "Index of the year 2018 column in given dataframe is: 29\n"
     ]
    }
   ],
   "source": [
    "# To extract the data for 2008 in the Human Development Index (HDI) dataframe\n",
    "# we need to first identify the index_no of both years on the df_hdi table\n",
    "\n",
    "# give column name\n",
    "column_name1 = \"2008\"\n",
    "column_name2 = \"2018\"\n",
    "  \n",
    "# find the index no\n",
    "index_no1 = df_hdi.columns.get_loc(column_name1)\n",
    "index_no2 = df_hdi.columns.get_loc(column_name2)\n",
    "  \n",
    "print(\"Index of the year {} column in given dataframe is: {}\".format(column_name1, index_no1))\n",
    "print(\"Index of the year {} column in given dataframe is: {}\".format(column_name2, index_no2))"
   ]
  },
  {
   "cell_type": "code",
   "execution_count": 7,
   "metadata": {
    "scrolled": true
   },
   "outputs": [
    {
     "name": "stderr",
     "output_type": "stream",
     "text": [
      "C:\\Users\\Henry Adeyemi\\AppData\\Local\\Temp\\ipykernel_4288\\3179064616.py:3: SettingWithCopyWarning: \n",
      "A value is trying to be set on a copy of a slice from a DataFrame\n",
      "\n",
      "See the caveats in the documentation: https://pandas.pydata.org/pandas-docs/stable/user_guide/indexing.html#returning-a-view-versus-a-copy\n",
      "  df_hdi_08.rename(columns = {'2008' : 'hdi'}, inplace=True)\n"
     ]
    },
    {
     "data": {
      "text/html": [
       "<div>\n",
       "<style scoped>\n",
       "    .dataframe tbody tr th:only-of-type {\n",
       "        vertical-align: middle;\n",
       "    }\n",
       "\n",
       "    .dataframe tbody tr th {\n",
       "        vertical-align: top;\n",
       "    }\n",
       "\n",
       "    .dataframe thead th {\n",
       "        text-align: right;\n",
       "    }\n",
       "</style>\n",
       "<table border=\"1\" class=\"dataframe\">\n",
       "  <thead>\n",
       "    <tr style=\"text-align: right;\">\n",
       "      <th></th>\n",
       "      <th>country</th>\n",
       "      <th>hdi</th>\n",
       "    </tr>\n",
       "  </thead>\n",
       "  <tbody>\n",
       "    <tr>\n",
       "      <th>0</th>\n",
       "      <td>Afghanistan</td>\n",
       "      <td>0.447</td>\n",
       "    </tr>\n",
       "    <tr>\n",
       "      <th>1</th>\n",
       "      <td>Angola</td>\n",
       "      <td>0.501</td>\n",
       "    </tr>\n",
       "    <tr>\n",
       "      <th>2</th>\n",
       "      <td>Albania</td>\n",
       "      <td>0.728</td>\n",
       "    </tr>\n",
       "    <tr>\n",
       "      <th>3</th>\n",
       "      <td>Andorra</td>\n",
       "      <td>0.840</td>\n",
       "    </tr>\n",
       "    <tr>\n",
       "      <th>4</th>\n",
       "      <td>United Arab Emirates</td>\n",
       "      <td>0.821</td>\n",
       "    </tr>\n",
       "  </tbody>\n",
       "</table>\n",
       "</div>"
      ],
      "text/plain": [
       "                country    hdi\n",
       "0           Afghanistan  0.447\n",
       "1                Angola  0.501\n",
       "2               Albania  0.728\n",
       "3               Andorra  0.840\n",
       "4  United Arab Emirates  0.821"
      ]
     },
     "execution_count": 7,
     "metadata": {},
     "output_type": "execute_result"
    }
   ],
   "source": [
    "# extracting the income for the year 2008\n",
    "df_hdi_08 = df_hdi.iloc[:, np.r_[:1, 19]]\n",
    "df_hdi_08.rename(columns = {'2008' : 'hdi'}, inplace=True)\n",
    "df_hdi_08.head()"
   ]
  },
  {
   "cell_type": "markdown",
   "metadata": {},
   "source": [
    "#### Working Hours indicator"
   ]
  },
  {
   "cell_type": "code",
   "execution_count": 8,
   "metadata": {},
   "outputs": [
    {
     "name": "stdout",
     "output_type": "stream",
     "text": [
      "Index of the year 2008 column in given dataframe is: 40\n",
      "Index of the year 2018 column in given dataframe is: 50\n"
     ]
    }
   ],
   "source": [
    "# To extract the data for 2008 in the working hours dataframe\n",
    "# we need to first identify the index_no of both years on the table\n",
    "\n",
    "# give column name\n",
    "column_name1 = \"2008\"\n",
    "column_name2 = \"2018\"\n",
    "  \n",
    "# find the index no\n",
    "index_no1 = df_work.columns.get_loc(column_name1)\n",
    "index_no2 = df_work.columns.get_loc(column_name2)\n",
    "  \n",
    "print(\"Index of the year {} column in given dataframe is: {}\".format(column_name1, index_no1))\n",
    "print(\"Index of the year {} column in given dataframe is: {}\".format(column_name2, index_no2))"
   ]
  },
  {
   "cell_type": "code",
   "execution_count": 9,
   "metadata": {},
   "outputs": [
    {
     "name": "stderr",
     "output_type": "stream",
     "text": [
      "C:\\Users\\Henry Adeyemi\\AppData\\Local\\Temp\\ipykernel_4288\\2553474000.py:2: SettingWithCopyWarning: \n",
      "A value is trying to be set on a copy of a slice from a DataFrame\n",
      "\n",
      "See the caveats in the documentation: https://pandas.pydata.org/pandas-docs/stable/user_guide/indexing.html#returning-a-view-versus-a-copy\n",
      "  df_work_08.rename(columns = {'2008' : 'working_hours'}, inplace=True)\n"
     ]
    },
    {
     "data": {
      "text/html": [
       "<div>\n",
       "<style scoped>\n",
       "    .dataframe tbody tr th:only-of-type {\n",
       "        vertical-align: middle;\n",
       "    }\n",
       "\n",
       "    .dataframe tbody tr th {\n",
       "        vertical-align: top;\n",
       "    }\n",
       "\n",
       "    .dataframe thead th {\n",
       "        text-align: right;\n",
       "    }\n",
       "</style>\n",
       "<table border=\"1\" class=\"dataframe\">\n",
       "  <thead>\n",
       "    <tr style=\"text-align: right;\">\n",
       "      <th></th>\n",
       "      <th>country</th>\n",
       "      <th>working_hours</th>\n",
       "    </tr>\n",
       "  </thead>\n",
       "  <tbody>\n",
       "    <tr>\n",
       "      <th>0</th>\n",
       "      <td>Aruba</td>\n",
       "      <td>NaN</td>\n",
       "    </tr>\n",
       "    <tr>\n",
       "      <th>1</th>\n",
       "      <td>Afghanistan</td>\n",
       "      <td>NaN</td>\n",
       "    </tr>\n",
       "    <tr>\n",
       "      <th>2</th>\n",
       "      <td>Albania</td>\n",
       "      <td>42.2</td>\n",
       "    </tr>\n",
       "    <tr>\n",
       "      <th>3</th>\n",
       "      <td>United Arab Emirates</td>\n",
       "      <td>NaN</td>\n",
       "    </tr>\n",
       "    <tr>\n",
       "      <th>4</th>\n",
       "      <td>Argentina</td>\n",
       "      <td>38.9</td>\n",
       "    </tr>\n",
       "  </tbody>\n",
       "</table>\n",
       "</div>"
      ],
      "text/plain": [
       "                country  working_hours\n",
       "0                 Aruba            NaN\n",
       "1           Afghanistan            NaN\n",
       "2               Albania           42.2\n",
       "3  United Arab Emirates            NaN\n",
       "4             Argentina           38.9"
      ]
     },
     "execution_count": 9,
     "metadata": {},
     "output_type": "execute_result"
    }
   ],
   "source": [
    "df_work_08 = df_work.iloc[:, np.r_[:1, 40]]\n",
    "df_work_08.rename(columns = {'2008' : 'working_hours'}, inplace=True)\n",
    "df_work_08.head()"
   ]
  },
  {
   "cell_type": "markdown",
   "metadata": {},
   "source": [
    "#### Happiness Score Indicator"
   ]
  },
  {
   "cell_type": "code",
   "execution_count": 10,
   "metadata": {},
   "outputs": [
    {
     "name": "stdout",
     "output_type": "stream",
     "text": [
      "Index of the year 2008 column in given dataframe is: 4\n",
      "Index of the year 2018 column in given dataframe is: 14\n"
     ]
    }
   ],
   "source": [
    "# To extract the data for 2008 in the happiness score dataframe\n",
    "# we need to first identify the index_no of both years on the table\n",
    "\n",
    "# give column name\n",
    "column_name1 = \"2008\"\n",
    "column_name2 = \"2018\"\n",
    "  \n",
    "# find the index no\n",
    "index_no1 = df_happy.columns.get_loc(column_name1)\n",
    "index_no2 = df_happy.columns.get_loc(column_name2)\n",
    "  \n",
    "print(\"Index of the year {} column in given dataframe is: {}\".format(column_name1, index_no1))\n",
    "print(\"Index of the year {} column in given dataframe is: {}\".format(column_name2, index_no2))"
   ]
  },
  {
   "cell_type": "code",
   "execution_count": 11,
   "metadata": {
    "scrolled": true
   },
   "outputs": [
    {
     "name": "stderr",
     "output_type": "stream",
     "text": [
      "C:\\Users\\Henry Adeyemi\\AppData\\Local\\Temp\\ipykernel_4288\\3790599997.py:2: SettingWithCopyWarning: \n",
      "A value is trying to be set on a copy of a slice from a DataFrame\n",
      "\n",
      "See the caveats in the documentation: https://pandas.pydata.org/pandas-docs/stable/user_guide/indexing.html#returning-a-view-versus-a-copy\n",
      "  df_happy_08.rename(columns = {'2008' : 'happiness_score'}, inplace=True)\n"
     ]
    },
    {
     "data": {
      "text/html": [
       "<div>\n",
       "<style scoped>\n",
       "    .dataframe tbody tr th:only-of-type {\n",
       "        vertical-align: middle;\n",
       "    }\n",
       "\n",
       "    .dataframe tbody tr th {\n",
       "        vertical-align: top;\n",
       "    }\n",
       "\n",
       "    .dataframe thead th {\n",
       "        text-align: right;\n",
       "    }\n",
       "</style>\n",
       "<table border=\"1\" class=\"dataframe\">\n",
       "  <thead>\n",
       "    <tr style=\"text-align: right;\">\n",
       "      <th></th>\n",
       "      <th>country</th>\n",
       "      <th>happiness_score</th>\n",
       "    </tr>\n",
       "  </thead>\n",
       "  <tbody>\n",
       "    <tr>\n",
       "      <th>0</th>\n",
       "      <td>Afghanistan</td>\n",
       "      <td>37.2</td>\n",
       "    </tr>\n",
       "    <tr>\n",
       "      <th>1</th>\n",
       "      <td>Angola</td>\n",
       "      <td>NaN</td>\n",
       "    </tr>\n",
       "    <tr>\n",
       "      <th>2</th>\n",
       "      <td>Albania</td>\n",
       "      <td>NaN</td>\n",
       "    </tr>\n",
       "    <tr>\n",
       "      <th>3</th>\n",
       "      <td>United Arab Emirates</td>\n",
       "      <td>NaN</td>\n",
       "    </tr>\n",
       "    <tr>\n",
       "      <th>4</th>\n",
       "      <td>Argentina</td>\n",
       "      <td>59.6</td>\n",
       "    </tr>\n",
       "  </tbody>\n",
       "</table>\n",
       "</div>"
      ],
      "text/plain": [
       "                country  happiness_score\n",
       "0           Afghanistan             37.2\n",
       "1                Angola              NaN\n",
       "2               Albania              NaN\n",
       "3  United Arab Emirates              NaN\n",
       "4             Argentina             59.6"
      ]
     },
     "execution_count": 11,
     "metadata": {},
     "output_type": "execute_result"
    }
   ],
   "source": [
    "df_happy_08 = df_happy.iloc[:, np.r_[:1, 4]]\n",
    "df_happy_08.rename(columns = {'2008' : 'happiness_score'}, inplace=True)\n",
    "df_happy_08.head()"
   ]
  },
  {
   "cell_type": "markdown",
   "metadata": {},
   "source": [
    "#### Life Expectancy Indicator"
   ]
  },
  {
   "cell_type": "code",
   "execution_count": 12,
   "metadata": {},
   "outputs": [
    {
     "name": "stdout",
     "output_type": "stream",
     "text": [
      "Index of the year 2008 column in given dataframe is: 209\n",
      "Index of the year 2018 column in given dataframe is: 219\n"
     ]
    }
   ],
   "source": [
    "# To extract the data for 2008 in the Life Expectancy dataframe\n",
    "# we need to first identify the index_no of both years on the Life expectancy table\n",
    "\n",
    "# give column name\n",
    "column_name1 = \"2008\"\n",
    "column_name2 = \"2018\"\n",
    "  \n",
    "# find the index no\n",
    "index_no1 = df_life.columns.get_loc(column_name1)\n",
    "index_no2 = df_life.columns.get_loc(column_name2)\n",
    "  \n",
    "print(\"Index of the year {} column in given dataframe is: {}\".format(column_name1, index_no1))\n",
    "print(\"Index of the year {} column in given dataframe is: {}\".format(column_name2, index_no2))"
   ]
  },
  {
   "cell_type": "code",
   "execution_count": 13,
   "metadata": {
    "scrolled": true
   },
   "outputs": [
    {
     "name": "stderr",
     "output_type": "stream",
     "text": [
      "C:\\Users\\Henry Adeyemi\\AppData\\Local\\Temp\\ipykernel_4288\\4087144060.py:2: SettingWithCopyWarning: \n",
      "A value is trying to be set on a copy of a slice from a DataFrame\n",
      "\n",
      "See the caveats in the documentation: https://pandas.pydata.org/pandas-docs/stable/user_guide/indexing.html#returning-a-view-versus-a-copy\n",
      "  df_life_08.rename(columns = {'2008' : 'life_expectancy'}, inplace=True)\n"
     ]
    },
    {
     "data": {
      "text/html": [
       "<div>\n",
       "<style scoped>\n",
       "    .dataframe tbody tr th:only-of-type {\n",
       "        vertical-align: middle;\n",
       "    }\n",
       "\n",
       "    .dataframe tbody tr th {\n",
       "        vertical-align: top;\n",
       "    }\n",
       "\n",
       "    .dataframe thead th {\n",
       "        text-align: right;\n",
       "    }\n",
       "</style>\n",
       "<table border=\"1\" class=\"dataframe\">\n",
       "  <thead>\n",
       "    <tr style=\"text-align: right;\">\n",
       "      <th></th>\n",
       "      <th>country</th>\n",
       "      <th>life_expectancy</th>\n",
       "    </tr>\n",
       "  </thead>\n",
       "  <tbody>\n",
       "    <tr>\n",
       "      <th>0</th>\n",
       "      <td>Afghanistan</td>\n",
       "      <td>59.2</td>\n",
       "    </tr>\n",
       "    <tr>\n",
       "      <th>1</th>\n",
       "      <td>Angola</td>\n",
       "      <td>58.8</td>\n",
       "    </tr>\n",
       "    <tr>\n",
       "      <th>2</th>\n",
       "      <td>Albania</td>\n",
       "      <td>77.6</td>\n",
       "    </tr>\n",
       "    <tr>\n",
       "      <th>3</th>\n",
       "      <td>Andorra</td>\n",
       "      <td>81.8</td>\n",
       "    </tr>\n",
       "    <tr>\n",
       "      <th>4</th>\n",
       "      <td>United Arab Emirates</td>\n",
       "      <td>70.4</td>\n",
       "    </tr>\n",
       "  </tbody>\n",
       "</table>\n",
       "</div>"
      ],
      "text/plain": [
       "                country  life_expectancy\n",
       "0           Afghanistan             59.2\n",
       "1                Angola             58.8\n",
       "2               Albania             77.6\n",
       "3               Andorra             81.8\n",
       "4  United Arab Emirates             70.4"
      ]
     },
     "execution_count": 13,
     "metadata": {},
     "output_type": "execute_result"
    }
   ],
   "source": [
    "df_life_08 = df_life.iloc[:, np.r_[:1, 209]]\n",
    "df_life_08.rename(columns = {'2008' : 'life_expectancy'}, inplace=True)\n",
    "df_life_08.head()"
   ]
  },
  {
   "cell_type": "markdown",
   "metadata": {},
   "source": [
    "#### Children per woman"
   ]
  },
  {
   "cell_type": "code",
   "execution_count": 14,
   "metadata": {},
   "outputs": [
    {
     "name": "stdout",
     "output_type": "stream",
     "text": [
      "Index of the year 2008 column in the dataframe is: 209\n",
      "Index of the year 2018 column in the dataframe is: 219\n"
     ]
    }
   ],
   "source": [
    "# To extract the data for 2008 in the child per woman dataframe\n",
    "# we need to first identify the index_no of both years on the table\n",
    "\n",
    "# give column name\n",
    "column_name1 = \"2008\"\n",
    "column_name2 = \"2018\"\n",
    "  \n",
    "# find the index no\n",
    "index_no1 = df_child.columns.get_loc(column_name1)\n",
    "index_no2 = df_child.columns.get_loc(column_name2)\n",
    "  \n",
    "print(\"Index of the year {} column in the dataframe is: {}\".format(column_name1, index_no1))\n",
    "print(\"Index of the year {} column in the dataframe is: {}\".format(column_name2, index_no2))"
   ]
  },
  {
   "cell_type": "code",
   "execution_count": 15,
   "metadata": {},
   "outputs": [
    {
     "name": "stderr",
     "output_type": "stream",
     "text": [
      "C:\\Users\\Henry Adeyemi\\AppData\\Local\\Temp\\ipykernel_4288\\1339008708.py:2: SettingWithCopyWarning: \n",
      "A value is trying to be set on a copy of a slice from a DataFrame\n",
      "\n",
      "See the caveats in the documentation: https://pandas.pydata.org/pandas-docs/stable/user_guide/indexing.html#returning-a-view-versus-a-copy\n",
      "  df_child_08.rename(columns = {'2008' : 'child_per_woman'}, inplace=True)\n"
     ]
    },
    {
     "data": {
      "text/html": [
       "<div>\n",
       "<style scoped>\n",
       "    .dataframe tbody tr th:only-of-type {\n",
       "        vertical-align: middle;\n",
       "    }\n",
       "\n",
       "    .dataframe tbody tr th {\n",
       "        vertical-align: top;\n",
       "    }\n",
       "\n",
       "    .dataframe thead th {\n",
       "        text-align: right;\n",
       "    }\n",
       "</style>\n",
       "<table border=\"1\" class=\"dataframe\">\n",
       "  <thead>\n",
       "    <tr style=\"text-align: right;\">\n",
       "      <th></th>\n",
       "      <th>country</th>\n",
       "      <th>child_per_woman</th>\n",
       "    </tr>\n",
       "  </thead>\n",
       "  <tbody>\n",
       "    <tr>\n",
       "      <th>0</th>\n",
       "      <td>Aruba</td>\n",
       "      <td>1.73</td>\n",
       "    </tr>\n",
       "    <tr>\n",
       "      <th>1</th>\n",
       "      <td>Afghanistan</td>\n",
       "      <td>6.25</td>\n",
       "    </tr>\n",
       "    <tr>\n",
       "      <th>2</th>\n",
       "      <td>Angola</td>\n",
       "      <td>6.31</td>\n",
       "    </tr>\n",
       "    <tr>\n",
       "      <th>3</th>\n",
       "      <td>Albania</td>\n",
       "      <td>1.65</td>\n",
       "    </tr>\n",
       "    <tr>\n",
       "      <th>4</th>\n",
       "      <td>Netherlands Antilles</td>\n",
       "      <td>1.97</td>\n",
       "    </tr>\n",
       "  </tbody>\n",
       "</table>\n",
       "</div>"
      ],
      "text/plain": [
       "                country  child_per_woman\n",
       "0                 Aruba             1.73\n",
       "1           Afghanistan             6.25\n",
       "2                Angola             6.31\n",
       "3               Albania             1.65\n",
       "4  Netherlands Antilles             1.97"
      ]
     },
     "execution_count": 15,
     "metadata": {},
     "output_type": "execute_result"
    }
   ],
   "source": [
    "df_child_08 = df_child.iloc[:, np.r_[:1, 209]]\n",
    "df_child_08.rename(columns = {'2008' : 'child_per_woman'}, inplace=True)\n",
    "df_child_08.head()"
   ]
  },
  {
   "cell_type": "markdown",
   "metadata": {},
   "source": [
    "> We will merge all the extracted data for 2008 into a singular table\n",
    "To do this, I learnt about this merging technique all thanks to this article on <a href='https://stackoverflow.com/questions/44327999/python-pandas-merge-multiple-dataframes'>Stackoverflow</a> and the pandas Dataframe.merge <a href='https://pandas.pydata.org/docs/reference/api/pandas.DataFrame.merge.html'>documentation</a>."
   ]
  },
  {
   "cell_type": "code",
   "execution_count": 16,
   "metadata": {},
   "outputs": [],
   "source": [
    "# To avoid running multiple merge, we can import functools to help with this.\n",
    "from functools import reduce"
   ]
  },
  {
   "cell_type": "code",
   "execution_count": 18,
   "metadata": {},
   "outputs": [],
   "source": [
    "# I had tried the commented code below, but that will require multiple merge for all indicators\n",
    "#df_child_life = pd.merge(df_child_08, df_life_08, how=\"inner\", on=None, left_on='country', right_on='country')\n",
    "\n",
    "data_frames = [df_income_08,df_child_08,df_life_08,df_happy_08,df_work_08,df_hdi_08]\n",
    "df_08 = reduce(lambda  left,right: pd.merge(left,right,on=['country'], how='inner', left_index=False, right_index=False), data_frames)"
   ]
  },
  {
   "cell_type": "code",
   "execution_count": 19,
   "metadata": {},
   "outputs": [
    {
     "data": {
      "text/html": [
       "<div>\n",
       "<style scoped>\n",
       "    .dataframe tbody tr th:only-of-type {\n",
       "        vertical-align: middle;\n",
       "    }\n",
       "\n",
       "    .dataframe tbody tr th {\n",
       "        vertical-align: top;\n",
       "    }\n",
       "\n",
       "    .dataframe thead th {\n",
       "        text-align: right;\n",
       "    }\n",
       "</style>\n",
       "<table border=\"1\" class=\"dataframe\">\n",
       "  <thead>\n",
       "    <tr style=\"text-align: right;\">\n",
       "      <th></th>\n",
       "      <th>country</th>\n",
       "      <th>income</th>\n",
       "      <th>child_per_woman</th>\n",
       "      <th>life_expectancy</th>\n",
       "      <th>happiness_score</th>\n",
       "      <th>working_hours</th>\n",
       "      <th>hdi</th>\n",
       "    </tr>\n",
       "  </thead>\n",
       "  <tbody>\n",
       "    <tr>\n",
       "      <th>0</th>\n",
       "      <td>Afghanistan</td>\n",
       "      <td>1480</td>\n",
       "      <td>6.25</td>\n",
       "      <td>59.2</td>\n",
       "      <td>37.2</td>\n",
       "      <td>NaN</td>\n",
       "      <td>0.447</td>\n",
       "    </tr>\n",
       "    <tr>\n",
       "      <th>1</th>\n",
       "      <td>Albania</td>\n",
       "      <td>9940</td>\n",
       "      <td>1.65</td>\n",
       "      <td>77.6</td>\n",
       "      <td>NaN</td>\n",
       "      <td>42.2</td>\n",
       "      <td>0.728</td>\n",
       "    </tr>\n",
       "    <tr>\n",
       "      <th>2</th>\n",
       "      <td>United Arab Emirates</td>\n",
       "      <td>68.8k</td>\n",
       "      <td>1.95</td>\n",
       "      <td>70.4</td>\n",
       "      <td>NaN</td>\n",
       "      <td>NaN</td>\n",
       "      <td>0.821</td>\n",
       "    </tr>\n",
       "    <tr>\n",
       "      <th>3</th>\n",
       "      <td>Argentina</td>\n",
       "      <td>23.1k</td>\n",
       "      <td>2.40</td>\n",
       "      <td>75.7</td>\n",
       "      <td>59.6</td>\n",
       "      <td>38.9</td>\n",
       "      <td>0.821</td>\n",
       "    </tr>\n",
       "    <tr>\n",
       "      <th>4</th>\n",
       "      <td>Armenia</td>\n",
       "      <td>10.5k</td>\n",
       "      <td>1.40</td>\n",
       "      <td>73.5</td>\n",
       "      <td>46.5</td>\n",
       "      <td>42.1</td>\n",
       "      <td>0.745</td>\n",
       "    </tr>\n",
       "  </tbody>\n",
       "</table>\n",
       "</div>"
      ],
      "text/plain": [
       "                country income  child_per_woman  life_expectancy  \\\n",
       "0           Afghanistan   1480             6.25             59.2   \n",
       "1               Albania   9940             1.65             77.6   \n",
       "2  United Arab Emirates  68.8k             1.95             70.4   \n",
       "3             Argentina  23.1k             2.40             75.7   \n",
       "4               Armenia  10.5k             1.40             73.5   \n",
       "\n",
       "   happiness_score  working_hours    hdi  \n",
       "0             37.2            NaN  0.447  \n",
       "1              NaN           42.2  0.728  \n",
       "2              NaN            NaN  0.821  \n",
       "3             59.6           38.9  0.821  \n",
       "4             46.5           42.1  0.745  "
      ]
     },
     "execution_count": 19,
     "metadata": {},
     "output_type": "execute_result"
    }
   ],
   "source": [
    "df_08.head()"
   ]
  },
  {
   "cell_type": "markdown",
   "metadata": {},
   "source": [
    "### We repeat the same process to extract the values for our indicators in the year 2018\n",
    ">The index for the 2018 columns was queried above, that is the index I will work with here"
   ]
  },
  {
   "cell_type": "code",
   "execution_count": 20,
   "metadata": {},
   "outputs": [
    {
     "name": "stderr",
     "output_type": "stream",
     "text": [
      "C:\\Users\\Henry Adeyemi\\AppData\\Local\\Temp\\ipykernel_4288\\829764685.py:3: SettingWithCopyWarning: \n",
      "A value is trying to be set on a copy of a slice from a DataFrame\n",
      "\n",
      "See the caveats in the documentation: https://pandas.pydata.org/pandas-docs/stable/user_guide/indexing.html#returning-a-view-versus-a-copy\n",
      "  df_income_18.rename(columns = {'2018' : 'income'}, inplace=True)\n"
     ]
    },
    {
     "data": {
      "text/html": [
       "<div>\n",
       "<style scoped>\n",
       "    .dataframe tbody tr th:only-of-type {\n",
       "        vertical-align: middle;\n",
       "    }\n",
       "\n",
       "    .dataframe tbody tr th {\n",
       "        vertical-align: top;\n",
       "    }\n",
       "\n",
       "    .dataframe thead th {\n",
       "        text-align: right;\n",
       "    }\n",
       "</style>\n",
       "<table border=\"1\" class=\"dataframe\">\n",
       "  <thead>\n",
       "    <tr style=\"text-align: right;\">\n",
       "      <th></th>\n",
       "      <th>country</th>\n",
       "      <th>income</th>\n",
       "    </tr>\n",
       "  </thead>\n",
       "  <tbody>\n",
       "    <tr>\n",
       "      <th>0</th>\n",
       "      <td>Afghanistan</td>\n",
       "      <td>2030</td>\n",
       "    </tr>\n",
       "    <tr>\n",
       "      <th>1</th>\n",
       "      <td>Angola</td>\n",
       "      <td>6930</td>\n",
       "    </tr>\n",
       "    <tr>\n",
       "      <th>2</th>\n",
       "      <td>Albania</td>\n",
       "      <td>13.4k</td>\n",
       "    </tr>\n",
       "    <tr>\n",
       "      <th>3</th>\n",
       "      <td>Andorra</td>\n",
       "      <td>57.6k</td>\n",
       "    </tr>\n",
       "    <tr>\n",
       "      <th>4</th>\n",
       "      <td>United Arab Emirates</td>\n",
       "      <td>67k</td>\n",
       "    </tr>\n",
       "  </tbody>\n",
       "</table>\n",
       "</div>"
      ],
      "text/plain": [
       "                country income\n",
       "0           Afghanistan   2030\n",
       "1                Angola   6930\n",
       "2               Albania  13.4k\n",
       "3               Andorra  57.6k\n",
       "4  United Arab Emirates    67k"
      ]
     },
     "execution_count": 20,
     "metadata": {},
     "output_type": "execute_result"
    }
   ],
   "source": [
    "# extracting the income for the year 2018\n",
    "df_income_18 = df_income.iloc[:, np.r_[:1, 219]]\n",
    "df_income_18.rename(columns = {'2018' : 'income'}, inplace=True)\n",
    "df_income_18.head()"
   ]
  },
  {
   "cell_type": "code",
   "execution_count": 26,
   "metadata": {},
   "outputs": [
    {
     "name": "stderr",
     "output_type": "stream",
     "text": [
      "C:\\Users\\Henry Adeyemi\\AppData\\Local\\Temp\\ipykernel_4288\\735941113.py:3: SettingWithCopyWarning: \n",
      "A value is trying to be set on a copy of a slice from a DataFrame\n",
      "\n",
      "See the caveats in the documentation: https://pandas.pydata.org/pandas-docs/stable/user_guide/indexing.html#returning-a-view-versus-a-copy\n",
      "  df_hdi_18.rename(columns = {'2018' : 'hdi'}, inplace=True)\n"
     ]
    },
    {
     "data": {
      "text/html": [
       "<div>\n",
       "<style scoped>\n",
       "    .dataframe tbody tr th:only-of-type {\n",
       "        vertical-align: middle;\n",
       "    }\n",
       "\n",
       "    .dataframe tbody tr th {\n",
       "        vertical-align: top;\n",
       "    }\n",
       "\n",
       "    .dataframe thead th {\n",
       "        text-align: right;\n",
       "    }\n",
       "</style>\n",
       "<table border=\"1\" class=\"dataframe\">\n",
       "  <thead>\n",
       "    <tr style=\"text-align: right;\">\n",
       "      <th></th>\n",
       "      <th>country</th>\n",
       "      <th>hdi</th>\n",
       "    </tr>\n",
       "  </thead>\n",
       "  <tbody>\n",
       "    <tr>\n",
       "      <th>0</th>\n",
       "      <td>Afghanistan</td>\n",
       "      <td>0.509</td>\n",
       "    </tr>\n",
       "    <tr>\n",
       "      <th>1</th>\n",
       "      <td>Angola</td>\n",
       "      <td>0.582</td>\n",
       "    </tr>\n",
       "    <tr>\n",
       "      <th>2</th>\n",
       "      <td>Albania</td>\n",
       "      <td>0.792</td>\n",
       "    </tr>\n",
       "    <tr>\n",
       "      <th>3</th>\n",
       "      <td>Andorra</td>\n",
       "      <td>0.867</td>\n",
       "    </tr>\n",
       "    <tr>\n",
       "      <th>4</th>\n",
       "      <td>United Arab Emirates</td>\n",
       "      <td>0.889</td>\n",
       "    </tr>\n",
       "  </tbody>\n",
       "</table>\n",
       "</div>"
      ],
      "text/plain": [
       "                country    hdi\n",
       "0           Afghanistan  0.509\n",
       "1                Angola  0.582\n",
       "2               Albania  0.792\n",
       "3               Andorra  0.867\n",
       "4  United Arab Emirates  0.889"
      ]
     },
     "execution_count": 26,
     "metadata": {},
     "output_type": "execute_result"
    }
   ],
   "source": [
    "# extracting the hdi data for the year 2018\n",
    "df_hdi_18 = df_hdi.iloc[:, np.r_[:1, 29]]\n",
    "df_hdi_18.rename(columns = {'2018' : 'hdi'}, inplace=True)\n",
    "df_hdi_18.head()"
   ]
  },
  {
   "cell_type": "code",
   "execution_count": 21,
   "metadata": {},
   "outputs": [
    {
     "name": "stderr",
     "output_type": "stream",
     "text": [
      "C:\\Users\\Henry Adeyemi\\AppData\\Local\\Temp\\ipykernel_4288\\2488191282.py:3: SettingWithCopyWarning: \n",
      "A value is trying to be set on a copy of a slice from a DataFrame\n",
      "\n",
      "See the caveats in the documentation: https://pandas.pydata.org/pandas-docs/stable/user_guide/indexing.html#returning-a-view-versus-a-copy\n",
      "  df_work_18.rename(columns = {'2018' : 'working_hours'}, inplace=True)\n"
     ]
    },
    {
     "data": {
      "text/html": [
       "<div>\n",
       "<style scoped>\n",
       "    .dataframe tbody tr th:only-of-type {\n",
       "        vertical-align: middle;\n",
       "    }\n",
       "\n",
       "    .dataframe tbody tr th {\n",
       "        vertical-align: top;\n",
       "    }\n",
       "\n",
       "    .dataframe thead th {\n",
       "        text-align: right;\n",
       "    }\n",
       "</style>\n",
       "<table border=\"1\" class=\"dataframe\">\n",
       "  <thead>\n",
       "    <tr style=\"text-align: right;\">\n",
       "      <th></th>\n",
       "      <th>country</th>\n",
       "      <th>working_hours</th>\n",
       "    </tr>\n",
       "  </thead>\n",
       "  <tbody>\n",
       "    <tr>\n",
       "      <th>0</th>\n",
       "      <td>Aruba</td>\n",
       "      <td>NaN</td>\n",
       "    </tr>\n",
       "    <tr>\n",
       "      <th>1</th>\n",
       "      <td>Afghanistan</td>\n",
       "      <td>NaN</td>\n",
       "    </tr>\n",
       "    <tr>\n",
       "      <th>2</th>\n",
       "      <td>Albania</td>\n",
       "      <td>40.6</td>\n",
       "    </tr>\n",
       "    <tr>\n",
       "      <th>3</th>\n",
       "      <td>United Arab Emirates</td>\n",
       "      <td>NaN</td>\n",
       "    </tr>\n",
       "    <tr>\n",
       "      <th>4</th>\n",
       "      <td>Argentina</td>\n",
       "      <td>35.8</td>\n",
       "    </tr>\n",
       "  </tbody>\n",
       "</table>\n",
       "</div>"
      ],
      "text/plain": [
       "                country  working_hours\n",
       "0                 Aruba            NaN\n",
       "1           Afghanistan            NaN\n",
       "2               Albania           40.6\n",
       "3  United Arab Emirates            NaN\n",
       "4             Argentina           35.8"
      ]
     },
     "execution_count": 21,
     "metadata": {},
     "output_type": "execute_result"
    }
   ],
   "source": [
    "# extracting the working hours data for the year 2018\n",
    "df_work_18 = df_work.iloc[:, np.r_[:1, 50]]\n",
    "df_work_18.rename(columns = {'2018' : 'working_hours'}, inplace=True)\n",
    "df_work_18.head()"
   ]
  },
  {
   "cell_type": "code",
   "execution_count": 22,
   "metadata": {},
   "outputs": [
    {
     "name": "stderr",
     "output_type": "stream",
     "text": [
      "C:\\Users\\Henry Adeyemi\\AppData\\Local\\Temp\\ipykernel_4288\\1194848707.py:3: SettingWithCopyWarning: \n",
      "A value is trying to be set on a copy of a slice from a DataFrame\n",
      "\n",
      "See the caveats in the documentation: https://pandas.pydata.org/pandas-docs/stable/user_guide/indexing.html#returning-a-view-versus-a-copy\n",
      "  df_happy_18.rename(columns = {'2018' : 'happiness_score'}, inplace=True)\n"
     ]
    },
    {
     "data": {
      "text/html": [
       "<div>\n",
       "<style scoped>\n",
       "    .dataframe tbody tr th:only-of-type {\n",
       "        vertical-align: middle;\n",
       "    }\n",
       "\n",
       "    .dataframe tbody tr th {\n",
       "        vertical-align: top;\n",
       "    }\n",
       "\n",
       "    .dataframe thead th {\n",
       "        text-align: right;\n",
       "    }\n",
       "</style>\n",
       "<table border=\"1\" class=\"dataframe\">\n",
       "  <thead>\n",
       "    <tr style=\"text-align: right;\">\n",
       "      <th></th>\n",
       "      <th>country</th>\n",
       "      <th>happiness_score</th>\n",
       "    </tr>\n",
       "  </thead>\n",
       "  <tbody>\n",
       "    <tr>\n",
       "      <th>0</th>\n",
       "      <td>Afghanistan</td>\n",
       "      <td>26.9</td>\n",
       "    </tr>\n",
       "    <tr>\n",
       "      <th>1</th>\n",
       "      <td>Angola</td>\n",
       "      <td>NaN</td>\n",
       "    </tr>\n",
       "    <tr>\n",
       "      <th>2</th>\n",
       "      <td>Albania</td>\n",
       "      <td>50.0</td>\n",
       "    </tr>\n",
       "    <tr>\n",
       "      <th>3</th>\n",
       "      <td>United Arab Emirates</td>\n",
       "      <td>66.0</td>\n",
       "    </tr>\n",
       "    <tr>\n",
       "      <th>4</th>\n",
       "      <td>Argentina</td>\n",
       "      <td>57.9</td>\n",
       "    </tr>\n",
       "  </tbody>\n",
       "</table>\n",
       "</div>"
      ],
      "text/plain": [
       "                country  happiness_score\n",
       "0           Afghanistan             26.9\n",
       "1                Angola              NaN\n",
       "2               Albania             50.0\n",
       "3  United Arab Emirates             66.0\n",
       "4             Argentina             57.9"
      ]
     },
     "execution_count": 22,
     "metadata": {},
     "output_type": "execute_result"
    }
   ],
   "source": [
    "# extracting the happiness score data for the year 2018\n",
    "df_happy_18 = df_happy.iloc[:, np.r_[:1, 14]]\n",
    "df_happy_18.rename(columns = {'2018' : 'happiness_score'}, inplace=True)\n",
    "df_happy_18.head()"
   ]
  },
  {
   "cell_type": "code",
   "execution_count": 23,
   "metadata": {},
   "outputs": [
    {
     "name": "stderr",
     "output_type": "stream",
     "text": [
      "C:\\Users\\Henry Adeyemi\\AppData\\Local\\Temp\\ipykernel_4288\\3595710669.py:3: SettingWithCopyWarning: \n",
      "A value is trying to be set on a copy of a slice from a DataFrame\n",
      "\n",
      "See the caveats in the documentation: https://pandas.pydata.org/pandas-docs/stable/user_guide/indexing.html#returning-a-view-versus-a-copy\n",
      "  df_life_18.rename(columns = {'2018' : 'life_expectancy'}, inplace=True)\n"
     ]
    },
    {
     "data": {
      "text/html": [
       "<div>\n",
       "<style scoped>\n",
       "    .dataframe tbody tr th:only-of-type {\n",
       "        vertical-align: middle;\n",
       "    }\n",
       "\n",
       "    .dataframe tbody tr th {\n",
       "        vertical-align: top;\n",
       "    }\n",
       "\n",
       "    .dataframe thead th {\n",
       "        text-align: right;\n",
       "    }\n",
       "</style>\n",
       "<table border=\"1\" class=\"dataframe\">\n",
       "  <thead>\n",
       "    <tr style=\"text-align: right;\">\n",
       "      <th></th>\n",
       "      <th>country</th>\n",
       "      <th>life_expectancy</th>\n",
       "    </tr>\n",
       "  </thead>\n",
       "  <tbody>\n",
       "    <tr>\n",
       "      <th>0</th>\n",
       "      <td>Afghanistan</td>\n",
       "      <td>62.7</td>\n",
       "    </tr>\n",
       "    <tr>\n",
       "      <th>1</th>\n",
       "      <td>Angola</td>\n",
       "      <td>64.6</td>\n",
       "    </tr>\n",
       "    <tr>\n",
       "      <th>2</th>\n",
       "      <td>Albania</td>\n",
       "      <td>78.4</td>\n",
       "    </tr>\n",
       "    <tr>\n",
       "      <th>3</th>\n",
       "      <td>Andorra</td>\n",
       "      <td>82.1</td>\n",
       "    </tr>\n",
       "    <tr>\n",
       "      <th>4</th>\n",
       "      <td>United Arab Emirates</td>\n",
       "      <td>73.7</td>\n",
       "    </tr>\n",
       "  </tbody>\n",
       "</table>\n",
       "</div>"
      ],
      "text/plain": [
       "                country  life_expectancy\n",
       "0           Afghanistan             62.7\n",
       "1                Angola             64.6\n",
       "2               Albania             78.4\n",
       "3               Andorra             82.1\n",
       "4  United Arab Emirates             73.7"
      ]
     },
     "execution_count": 23,
     "metadata": {},
     "output_type": "execute_result"
    }
   ],
   "source": [
    "# extracting the life expectancy data for the year 2018\n",
    "df_life_18 = df_life.iloc[:, np.r_[:1, 219]]\n",
    "df_life_18.rename(columns = {'2018' : 'life_expectancy'}, inplace=True)\n",
    "df_life_18.head()"
   ]
  },
  {
   "cell_type": "code",
   "execution_count": 24,
   "metadata": {},
   "outputs": [
    {
     "name": "stderr",
     "output_type": "stream",
     "text": [
      "C:\\Users\\Henry Adeyemi\\AppData\\Local\\Temp\\ipykernel_4288\\2683209617.py:3: SettingWithCopyWarning: \n",
      "A value is trying to be set on a copy of a slice from a DataFrame\n",
      "\n",
      "See the caveats in the documentation: https://pandas.pydata.org/pandas-docs/stable/user_guide/indexing.html#returning-a-view-versus-a-copy\n",
      "  df_child_18.rename(columns = {'2018' : 'child_per_woman'}, inplace=True)\n"
     ]
    },
    {
     "data": {
      "text/html": [
       "<div>\n",
       "<style scoped>\n",
       "    .dataframe tbody tr th:only-of-type {\n",
       "        vertical-align: middle;\n",
       "    }\n",
       "\n",
       "    .dataframe tbody tr th {\n",
       "        vertical-align: top;\n",
       "    }\n",
       "\n",
       "    .dataframe thead th {\n",
       "        text-align: right;\n",
       "    }\n",
       "</style>\n",
       "<table border=\"1\" class=\"dataframe\">\n",
       "  <thead>\n",
       "    <tr style=\"text-align: right;\">\n",
       "      <th></th>\n",
       "      <th>country</th>\n",
       "      <th>child_per_woman</th>\n",
       "    </tr>\n",
       "  </thead>\n",
       "  <tbody>\n",
       "    <tr>\n",
       "      <th>0</th>\n",
       "      <td>Aruba</td>\n",
       "      <td>1.80</td>\n",
       "    </tr>\n",
       "    <tr>\n",
       "      <th>1</th>\n",
       "      <td>Afghanistan</td>\n",
       "      <td>4.33</td>\n",
       "    </tr>\n",
       "    <tr>\n",
       "      <th>2</th>\n",
       "      <td>Angola</td>\n",
       "      <td>5.55</td>\n",
       "    </tr>\n",
       "    <tr>\n",
       "      <th>3</th>\n",
       "      <td>Albania</td>\n",
       "      <td>1.71</td>\n",
       "    </tr>\n",
       "    <tr>\n",
       "      <th>4</th>\n",
       "      <td>Netherlands Antilles</td>\n",
       "      <td>1.84</td>\n",
       "    </tr>\n",
       "  </tbody>\n",
       "</table>\n",
       "</div>"
      ],
      "text/plain": [
       "                country  child_per_woman\n",
       "0                 Aruba             1.80\n",
       "1           Afghanistan             4.33\n",
       "2                Angola             5.55\n",
       "3               Albania             1.71\n",
       "4  Netherlands Antilles             1.84"
      ]
     },
     "execution_count": 24,
     "metadata": {},
     "output_type": "execute_result"
    }
   ],
   "source": [
    "# extracting the child per woman data for the year 2018\n",
    "df_child_18 = df_child.iloc[:, np.r_[:1, 219]]\n",
    "df_child_18.rename(columns = {'2018' : 'child_per_woman'}, inplace=True)\n",
    "df_child_18.head()"
   ]
  },
  {
   "cell_type": "markdown",
   "metadata": {},
   "source": [
    "#### Merging the 2018 Data"
   ]
  },
  {
   "cell_type": "code",
   "execution_count": 27,
   "metadata": {},
   "outputs": [],
   "source": [
    "# To avoid running multiple merge, we used the functools to merge the dataset as done with the 2008 Dataset\n",
    "data_frames = [df_income_18,df_child_18,df_life_18,df_happy_18,df_work_18,df_hdi_18]\n",
    "df_18 = reduce(lambda  left,right: pd.merge(left,right,on=['country'], how='inner', left_index=False, right_index=False), data_frames)"
   ]
  },
  {
   "cell_type": "code",
   "execution_count": 29,
   "metadata": {},
   "outputs": [
    {
     "data": {
      "text/html": [
       "<div>\n",
       "<style scoped>\n",
       "    .dataframe tbody tr th:only-of-type {\n",
       "        vertical-align: middle;\n",
       "    }\n",
       "\n",
       "    .dataframe tbody tr th {\n",
       "        vertical-align: top;\n",
       "    }\n",
       "\n",
       "    .dataframe thead th {\n",
       "        text-align: right;\n",
       "    }\n",
       "</style>\n",
       "<table border=\"1\" class=\"dataframe\">\n",
       "  <thead>\n",
       "    <tr style=\"text-align: right;\">\n",
       "      <th></th>\n",
       "      <th>country</th>\n",
       "      <th>income</th>\n",
       "      <th>child_per_woman</th>\n",
       "      <th>life_expectancy</th>\n",
       "      <th>happiness_score</th>\n",
       "      <th>working_hours</th>\n",
       "      <th>hdi</th>\n",
       "    </tr>\n",
       "  </thead>\n",
       "  <tbody>\n",
       "    <tr>\n",
       "      <th>0</th>\n",
       "      <td>Afghanistan</td>\n",
       "      <td>2030</td>\n",
       "      <td>4.33</td>\n",
       "      <td>62.7</td>\n",
       "      <td>26.9</td>\n",
       "      <td>NaN</td>\n",
       "      <td>0.509</td>\n",
       "    </tr>\n",
       "    <tr>\n",
       "      <th>1</th>\n",
       "      <td>Albania</td>\n",
       "      <td>13.4k</td>\n",
       "      <td>1.71</td>\n",
       "      <td>78.4</td>\n",
       "      <td>50.0</td>\n",
       "      <td>40.6</td>\n",
       "      <td>0.792</td>\n",
       "    </tr>\n",
       "    <tr>\n",
       "      <th>2</th>\n",
       "      <td>United Arab Emirates</td>\n",
       "      <td>67k</td>\n",
       "      <td>1.72</td>\n",
       "      <td>73.7</td>\n",
       "      <td>66.0</td>\n",
       "      <td>NaN</td>\n",
       "      <td>0.889</td>\n",
       "    </tr>\n",
       "    <tr>\n",
       "      <th>3</th>\n",
       "      <td>Argentina</td>\n",
       "      <td>22.8k</td>\n",
       "      <td>2.26</td>\n",
       "      <td>76.5</td>\n",
       "      <td>57.9</td>\n",
       "      <td>35.8</td>\n",
       "      <td>0.842</td>\n",
       "    </tr>\n",
       "    <tr>\n",
       "      <th>4</th>\n",
       "      <td>Armenia</td>\n",
       "      <td>12.7k</td>\n",
       "      <td>1.60</td>\n",
       "      <td>75.6</td>\n",
       "      <td>50.6</td>\n",
       "      <td>38.0</td>\n",
       "      <td>0.771</td>\n",
       "    </tr>\n",
       "  </tbody>\n",
       "</table>\n",
       "</div>"
      ],
      "text/plain": [
       "                country income  child_per_woman  life_expectancy  \\\n",
       "0           Afghanistan   2030             4.33             62.7   \n",
       "1               Albania  13.4k             1.71             78.4   \n",
       "2  United Arab Emirates    67k             1.72             73.7   \n",
       "3             Argentina  22.8k             2.26             76.5   \n",
       "4               Armenia  12.7k             1.60             75.6   \n",
       "\n",
       "   happiness_score  working_hours    hdi  \n",
       "0             26.9            NaN  0.509  \n",
       "1             50.0           40.6  0.792  \n",
       "2             66.0            NaN  0.889  \n",
       "3             57.9           35.8  0.842  \n",
       "4             50.6           38.0  0.771  "
      ]
     },
     "execution_count": 29,
     "metadata": {},
     "output_type": "execute_result"
    }
   ],
   "source": [
    "df_18.head()"
   ]
  },
  {
   "cell_type": "markdown",
   "metadata": {},
   "source": [
    "### Data Cleaning \n",
    "WIth the above steps I was able to generate two key dataframes that will be used for the analysis. The next steps is to dig deeper into the dataset. Clean the data further before working on the exploratory Data Analysis"
   ]
  },
  {
   "cell_type": "code",
   "execution_count": 28,
   "metadata": {},
   "outputs": [
    {
     "name": "stdout",
     "output_type": "stream",
     "text": [
      "(139, 7)\n"
     ]
    },
    {
     "data": {
      "text/html": [
       "<div>\n",
       "<style scoped>\n",
       "    .dataframe tbody tr th:only-of-type {\n",
       "        vertical-align: middle;\n",
       "    }\n",
       "\n",
       "    .dataframe tbody tr th {\n",
       "        vertical-align: top;\n",
       "    }\n",
       "\n",
       "    .dataframe thead th {\n",
       "        text-align: right;\n",
       "    }\n",
       "</style>\n",
       "<table border=\"1\" class=\"dataframe\">\n",
       "  <thead>\n",
       "    <tr style=\"text-align: right;\">\n",
       "      <th></th>\n",
       "      <th>country</th>\n",
       "      <th>income</th>\n",
       "      <th>child_per_woman</th>\n",
       "      <th>life_expectancy</th>\n",
       "      <th>happiness_score</th>\n",
       "      <th>working_hours</th>\n",
       "      <th>hdi</th>\n",
       "    </tr>\n",
       "  </thead>\n",
       "  <tbody>\n",
       "    <tr>\n",
       "      <th>0</th>\n",
       "      <td>Afghanistan</td>\n",
       "      <td>1480</td>\n",
       "      <td>6.25</td>\n",
       "      <td>59.2</td>\n",
       "      <td>37.2</td>\n",
       "      <td>NaN</td>\n",
       "      <td>0.447</td>\n",
       "    </tr>\n",
       "    <tr>\n",
       "      <th>1</th>\n",
       "      <td>Albania</td>\n",
       "      <td>9940</td>\n",
       "      <td>1.65</td>\n",
       "      <td>77.6</td>\n",
       "      <td>NaN</td>\n",
       "      <td>42.2</td>\n",
       "      <td>0.728</td>\n",
       "    </tr>\n",
       "    <tr>\n",
       "      <th>2</th>\n",
       "      <td>United Arab Emirates</td>\n",
       "      <td>68.8k</td>\n",
       "      <td>1.95</td>\n",
       "      <td>70.4</td>\n",
       "      <td>NaN</td>\n",
       "      <td>NaN</td>\n",
       "      <td>0.821</td>\n",
       "    </tr>\n",
       "    <tr>\n",
       "      <th>3</th>\n",
       "      <td>Argentina</td>\n",
       "      <td>23.1k</td>\n",
       "      <td>2.40</td>\n",
       "      <td>75.7</td>\n",
       "      <td>59.6</td>\n",
       "      <td>38.9</td>\n",
       "      <td>0.821</td>\n",
       "    </tr>\n",
       "    <tr>\n",
       "      <th>4</th>\n",
       "      <td>Armenia</td>\n",
       "      <td>10.5k</td>\n",
       "      <td>1.40</td>\n",
       "      <td>73.5</td>\n",
       "      <td>46.5</td>\n",
       "      <td>42.1</td>\n",
       "      <td>0.745</td>\n",
       "    </tr>\n",
       "  </tbody>\n",
       "</table>\n",
       "</div>"
      ],
      "text/plain": [
       "                country income  child_per_woman  life_expectancy  \\\n",
       "0           Afghanistan   1480             6.25             59.2   \n",
       "1               Albania   9940             1.65             77.6   \n",
       "2  United Arab Emirates  68.8k             1.95             70.4   \n",
       "3             Argentina  23.1k             2.40             75.7   \n",
       "4               Armenia  10.5k             1.40             73.5   \n",
       "\n",
       "   happiness_score  working_hours    hdi  \n",
       "0             37.2            NaN  0.447  \n",
       "1              NaN           42.2  0.728  \n",
       "2              NaN            NaN  0.821  \n",
       "3             59.6           38.9  0.821  \n",
       "4             46.5           42.1  0.745  "
      ]
     },
     "execution_count": 28,
     "metadata": {},
     "output_type": "execute_result"
    }
   ],
   "source": [
    "# General overview of the dataset\n",
    "print(df_08.shape)\n",
    "df_08.head()"
   ]
  },
  {
   "cell_type": "code",
   "execution_count": 29,
   "metadata": {},
   "outputs": [
    {
     "name": "stdout",
     "output_type": "stream",
     "text": [
      "(139, 7)\n"
     ]
    },
    {
     "data": {
      "text/html": [
       "<div>\n",
       "<style scoped>\n",
       "    .dataframe tbody tr th:only-of-type {\n",
       "        vertical-align: middle;\n",
       "    }\n",
       "\n",
       "    .dataframe tbody tr th {\n",
       "        vertical-align: top;\n",
       "    }\n",
       "\n",
       "    .dataframe thead th {\n",
       "        text-align: right;\n",
       "    }\n",
       "</style>\n",
       "<table border=\"1\" class=\"dataframe\">\n",
       "  <thead>\n",
       "    <tr style=\"text-align: right;\">\n",
       "      <th></th>\n",
       "      <th>country</th>\n",
       "      <th>income</th>\n",
       "      <th>child_per_woman</th>\n",
       "      <th>life_expectancy</th>\n",
       "      <th>happiness_score</th>\n",
       "      <th>working_hours</th>\n",
       "      <th>hdi</th>\n",
       "    </tr>\n",
       "  </thead>\n",
       "  <tbody>\n",
       "    <tr>\n",
       "      <th>0</th>\n",
       "      <td>Afghanistan</td>\n",
       "      <td>1480</td>\n",
       "      <td>6.25</td>\n",
       "      <td>59.2</td>\n",
       "      <td>37.2</td>\n",
       "      <td>NaN</td>\n",
       "      <td>0.447</td>\n",
       "    </tr>\n",
       "    <tr>\n",
       "      <th>1</th>\n",
       "      <td>Albania</td>\n",
       "      <td>9940</td>\n",
       "      <td>1.65</td>\n",
       "      <td>77.6</td>\n",
       "      <td>NaN</td>\n",
       "      <td>42.2</td>\n",
       "      <td>0.728</td>\n",
       "    </tr>\n",
       "    <tr>\n",
       "      <th>2</th>\n",
       "      <td>United Arab Emirates</td>\n",
       "      <td>68.8k</td>\n",
       "      <td>1.95</td>\n",
       "      <td>70.4</td>\n",
       "      <td>NaN</td>\n",
       "      <td>NaN</td>\n",
       "      <td>0.821</td>\n",
       "    </tr>\n",
       "    <tr>\n",
       "      <th>3</th>\n",
       "      <td>Argentina</td>\n",
       "      <td>23.1k</td>\n",
       "      <td>2.40</td>\n",
       "      <td>75.7</td>\n",
       "      <td>59.6</td>\n",
       "      <td>38.9</td>\n",
       "      <td>0.821</td>\n",
       "    </tr>\n",
       "    <tr>\n",
       "      <th>4</th>\n",
       "      <td>Armenia</td>\n",
       "      <td>10.5k</td>\n",
       "      <td>1.40</td>\n",
       "      <td>73.5</td>\n",
       "      <td>46.5</td>\n",
       "      <td>42.1</td>\n",
       "      <td>0.745</td>\n",
       "    </tr>\n",
       "  </tbody>\n",
       "</table>\n",
       "</div>"
      ],
      "text/plain": [
       "                country income  child_per_woman  life_expectancy  \\\n",
       "0           Afghanistan   1480             6.25             59.2   \n",
       "1               Albania   9940             1.65             77.6   \n",
       "2  United Arab Emirates  68.8k             1.95             70.4   \n",
       "3             Argentina  23.1k             2.40             75.7   \n",
       "4               Armenia  10.5k             1.40             73.5   \n",
       "\n",
       "   happiness_score  working_hours    hdi  \n",
       "0             37.2            NaN  0.447  \n",
       "1              NaN           42.2  0.728  \n",
       "2              NaN            NaN  0.821  \n",
       "3             59.6           38.9  0.821  \n",
       "4             46.5           42.1  0.745  "
      ]
     },
     "execution_count": 29,
     "metadata": {},
     "output_type": "execute_result"
    }
   ],
   "source": [
    "# General overview of the dataset\n",
    "print(df_08.shape)\n",
    "df_08.head()"
   ]
  },
  {
   "cell_type": "code",
   "execution_count": 30,
   "metadata": {},
   "outputs": [
    {
     "data": {
      "text/plain": [
       "country             0\n",
       "income              0\n",
       "child_per_woman     0\n",
       "life_expectancy     0\n",
       "happiness_score    38\n",
       "working_hours      74\n",
       "hdi                 0\n",
       "dtype: int64"
      ]
     },
     "execution_count": 30,
     "metadata": {},
     "output_type": "execute_result"
    }
   ],
   "source": [
    "df_08.isnull().sum()"
   ]
  },
  {
   "cell_type": "code",
   "execution_count": 31,
   "metadata": {
    "scrolled": true
   },
   "outputs": [
    {
     "data": {
      "text/plain": [
       "country             0\n",
       "income              0\n",
       "child_per_woman     0\n",
       "life_expectancy     0\n",
       "happiness_score    15\n",
       "working_hours      52\n",
       "hdi                 0\n",
       "dtype: int64"
      ]
     },
     "execution_count": 31,
     "metadata": {},
     "output_type": "execute_result"
    }
   ],
   "source": [
    "df_18.isnull().sum()"
   ]
  },
  {
   "cell_type": "markdown",
   "metadata": {},
   "source": [
    "In the above, we see a significant amount of null values in the working_hours column in both the 2018 dataset (above average) and the 2018 dataset (slightly below average). Therefore this column will be removed & will not be used for analysis.\n",
    "\n",
    "Happiness_score has some null values; this will be dropped from both dataframes."
   ]
  },
  {
   "cell_type": "code",
   "execution_count": 32,
   "metadata": {},
   "outputs": [],
   "source": [
    "# to drop the null values on the happiness_score column\n",
    "df_08.dropna(axis=0, how='any', subset=['happiness_score'], inplace=True)\n",
    "df_18.dropna(axis=0, how='any', subset=['happiness_score'], inplace=True)"
   ]
  },
  {
   "cell_type": "code",
   "execution_count": 33,
   "metadata": {},
   "outputs": [],
   "source": [
    "# To drop the working_hours column\n",
    "df_08.drop(['working_hours'], axis=1, inplace=True)\n",
    "df_18.drop(['working_hours'], axis=1, inplace=True)"
   ]
  },
  {
   "cell_type": "markdown",
   "metadata": {},
   "source": [
    ">The null Values has been addressed.\n",
    ">\n",
    ">Next I check for duplicates"
   ]
  },
  {
   "cell_type": "code",
   "execution_count": 34,
   "metadata": {},
   "outputs": [
    {
     "data": {
      "text/plain": [
       "0"
      ]
     },
     "execution_count": 34,
     "metadata": {},
     "output_type": "execute_result"
    }
   ],
   "source": [
    "df_08.duplicated().sum()"
   ]
  },
  {
   "cell_type": "code",
   "execution_count": 35,
   "metadata": {},
   "outputs": [
    {
     "data": {
      "text/plain": [
       "0"
      ]
     },
     "execution_count": 35,
     "metadata": {},
     "output_type": "execute_result"
    }
   ],
   "source": [
    "df_18.duplicated().sum()"
   ]
  },
  {
   "cell_type": "code",
   "execution_count": 36,
   "metadata": {},
   "outputs": [
    {
     "data": {
      "text/plain": [
       "101"
      ]
     },
     "execution_count": 36,
     "metadata": {},
     "output_type": "execute_result"
    }
   ],
   "source": [
    "df_08.country.nunique()"
   ]
  },
  {
   "cell_type": "code",
   "execution_count": 37,
   "metadata": {},
   "outputs": [
    {
     "data": {
      "text/plain": [
       "124"
      ]
     },
     "execution_count": 37,
     "metadata": {},
     "output_type": "execute_result"
    }
   ],
   "source": [
    "df_18.country.nunique()"
   ]
  },
  {
   "cell_type": "markdown",
   "metadata": {},
   "source": [
    ">After Removing null values the 2008 Dataset is left with **101 Countries** & the 2018 Dataset is left with **124 Countries**\n",
    ">\n",
    "> In the next section I will be cross-checking the DataTypes"
   ]
  },
  {
   "cell_type": "code",
   "execution_count": 38,
   "metadata": {},
   "outputs": [
    {
     "name": "stdout",
     "output_type": "stream",
     "text": [
      "country             object\n",
      "income              object\n",
      "child_per_woman    float64\n",
      "life_expectancy    float64\n",
      "happiness_score    float64\n",
      "hdi                float64\n",
      "dtype: object\n"
     ]
    },
    {
     "data": {
      "text/html": [
       "<div>\n",
       "<style scoped>\n",
       "    .dataframe tbody tr th:only-of-type {\n",
       "        vertical-align: middle;\n",
       "    }\n",
       "\n",
       "    .dataframe tbody tr th {\n",
       "        vertical-align: top;\n",
       "    }\n",
       "\n",
       "    .dataframe thead th {\n",
       "        text-align: right;\n",
       "    }\n",
       "</style>\n",
       "<table border=\"1\" class=\"dataframe\">\n",
       "  <thead>\n",
       "    <tr style=\"text-align: right;\">\n",
       "      <th></th>\n",
       "      <th>country</th>\n",
       "      <th>income</th>\n",
       "      <th>child_per_woman</th>\n",
       "      <th>life_expectancy</th>\n",
       "      <th>happiness_score</th>\n",
       "      <th>hdi</th>\n",
       "    </tr>\n",
       "  </thead>\n",
       "  <tbody>\n",
       "    <tr>\n",
       "      <th>0</th>\n",
       "      <td>Afghanistan</td>\n",
       "      <td>1480</td>\n",
       "      <td>6.25</td>\n",
       "      <td>59.2</td>\n",
       "      <td>37.2</td>\n",
       "      <td>0.447</td>\n",
       "    </tr>\n",
       "    <tr>\n",
       "      <th>3</th>\n",
       "      <td>Argentina</td>\n",
       "      <td>23.1k</td>\n",
       "      <td>2.40</td>\n",
       "      <td>75.7</td>\n",
       "      <td>59.6</td>\n",
       "      <td>0.821</td>\n",
       "    </tr>\n",
       "    <tr>\n",
       "      <th>4</th>\n",
       "      <td>Armenia</td>\n",
       "      <td>10.5k</td>\n",
       "      <td>1.40</td>\n",
       "      <td>73.5</td>\n",
       "      <td>46.5</td>\n",
       "      <td>0.745</td>\n",
       "    </tr>\n",
       "  </tbody>\n",
       "</table>\n",
       "</div>"
      ],
      "text/plain": [
       "       country income  child_per_woman  life_expectancy  happiness_score  \\\n",
       "0  Afghanistan   1480             6.25             59.2             37.2   \n",
       "3    Argentina  23.1k             2.40             75.7             59.6   \n",
       "4      Armenia  10.5k             1.40             73.5             46.5   \n",
       "\n",
       "     hdi  \n",
       "0  0.447  \n",
       "3  0.821  \n",
       "4  0.745  "
      ]
     },
     "execution_count": 38,
     "metadata": {},
     "output_type": "execute_result"
    }
   ],
   "source": [
    "# checking the datatypes on df_o8\n",
    "print(df_08.dtypes)\n",
    "df_08.head(3)"
   ]
  },
  {
   "cell_type": "code",
   "execution_count": 39,
   "metadata": {
    "scrolled": true
   },
   "outputs": [
    {
     "name": "stdout",
     "output_type": "stream",
     "text": [
      "country             object\n",
      "income              object\n",
      "child_per_woman    float64\n",
      "life_expectancy    float64\n",
      "happiness_score    float64\n",
      "hdi                float64\n",
      "dtype: object\n"
     ]
    },
    {
     "data": {
      "text/html": [
       "<div>\n",
       "<style scoped>\n",
       "    .dataframe tbody tr th:only-of-type {\n",
       "        vertical-align: middle;\n",
       "    }\n",
       "\n",
       "    .dataframe tbody tr th {\n",
       "        vertical-align: top;\n",
       "    }\n",
       "\n",
       "    .dataframe thead th {\n",
       "        text-align: right;\n",
       "    }\n",
       "</style>\n",
       "<table border=\"1\" class=\"dataframe\">\n",
       "  <thead>\n",
       "    <tr style=\"text-align: right;\">\n",
       "      <th></th>\n",
       "      <th>country</th>\n",
       "      <th>income</th>\n",
       "      <th>child_per_woman</th>\n",
       "      <th>life_expectancy</th>\n",
       "      <th>happiness_score</th>\n",
       "      <th>hdi</th>\n",
       "    </tr>\n",
       "  </thead>\n",
       "  <tbody>\n",
       "    <tr>\n",
       "      <th>0</th>\n",
       "      <td>Afghanistan</td>\n",
       "      <td>2030</td>\n",
       "      <td>4.33</td>\n",
       "      <td>62.7</td>\n",
       "      <td>26.9</td>\n",
       "      <td>0.509</td>\n",
       "    </tr>\n",
       "    <tr>\n",
       "      <th>1</th>\n",
       "      <td>Albania</td>\n",
       "      <td>13.4k</td>\n",
       "      <td>1.71</td>\n",
       "      <td>78.4</td>\n",
       "      <td>50.0</td>\n",
       "      <td>0.792</td>\n",
       "    </tr>\n",
       "    <tr>\n",
       "      <th>2</th>\n",
       "      <td>United Arab Emirates</td>\n",
       "      <td>67k</td>\n",
       "      <td>1.72</td>\n",
       "      <td>73.7</td>\n",
       "      <td>66.0</td>\n",
       "      <td>0.889</td>\n",
       "    </tr>\n",
       "  </tbody>\n",
       "</table>\n",
       "</div>"
      ],
      "text/plain": [
       "                country income  child_per_woman  life_expectancy  \\\n",
       "0           Afghanistan   2030             4.33             62.7   \n",
       "1               Albania  13.4k             1.71             78.4   \n",
       "2  United Arab Emirates    67k             1.72             73.7   \n",
       "\n",
       "   happiness_score    hdi  \n",
       "0             26.9  0.509  \n",
       "1             50.0  0.792  \n",
       "2             66.0  0.889  "
      ]
     },
     "execution_count": 39,
     "metadata": {},
     "output_type": "execute_result"
    }
   ],
   "source": [
    "# checking the datatypes on df_18\n",
    "print(df_18.dtypes)\n",
    "df_18.head(3)"
   ]
  },
  {
   "cell_type": "code",
   "execution_count": 40,
   "metadata": {},
   "outputs": [
    {
     "data": {
      "text/plain": [
       "array(['1480', '23.1k', '10.5k', '45k', '53.3k', '12.9k', '828', '48.6k',\n",
       "       '2740', '1630', '2660', '15.9k', '6350', '14.1k', '14.6k', '46k',\n",
       "       '20.9k', '7410', '4530', '11.4k', '16.2k', '47.7k', '53.2k', '12k',\n",
       "       '10.3k', '9760', '39.4k', '29.7k', '48.9k', '43.1k', '43.8k',\n",
       "       '9360', '3470', '7360', '49.8k', '5010', '2760', '7660', '3710',\n",
       "       '55.7k', '13.2k', '8630', '51.9k', '34.2k', '44.8k', '11.7k',\n",
       "       '38.3k', '19.9k', '3140', '4140', '2860', '32.4k', '4300', '17k',\n",
       "       '1370', '8270', '26.9k', '24.8k', '8470', '1700', '18.5k', '2010',\n",
       "       '958', '4920', '20.1k', '1010', '4460', '4690', '54k', '63.8k',\n",
       "       '2180', '38k', '3910', '20.6k', '9340', '5620', '9640', '4970',\n",
       "       '25k', '1390', '45.3k', '71.5k', '1360', '7390', '48.1k', '13.6k',\n",
       "       '2130', '20k', '1900', '1760', '55.3k', '20.7k', '4630', '12.6k',\n",
       "       '2750', '1740'], dtype=object)"
      ]
     },
     "execution_count": 40,
     "metadata": {},
     "output_type": "execute_result"
    }
   ],
   "source": [
    "df_08['income'].unique()"
   ]
  },
  {
   "cell_type": "code",
   "execution_count": 41,
   "metadata": {},
   "outputs": [
    {
     "data": {
      "text/plain": [
       "array(['2030', '13.4k', '67k', '22.8k', '12.7k', '49.3k', '55.5k',\n",
       "       '14.2k', '762', '51.3k', '3160', '2120', '4440', '22.3k', '14.4k',\n",
       "       '18.9k', '8660', '14.6k', '17.6k', '48.8k', '68.2k', '25.2k',\n",
       "       '15.2k', '4840', '3910', '3070', '20.1k', '38.8k', '40.1k',\n",
       "       '53.6k', '56.5k', '17.7k', '11.6k', '11.4k', '40.4k', '35.3k',\n",
       "       '2100', '48.3k', '45.5k', '46.3k', '14.3k', '2160', '29.9k',\n",
       "       '8450', '5670', '27.9k', '2990', '6500', '83.4k', '13.5k', '39.6k',\n",
       "       '42.2k', '10k', '41.3k', '25.5k', '4200', '5130', '4160', '42.1k',\n",
       "       '7590', '15.6k', '1500', '12.9k', '35.5k', '114k', '30.1k', '7440',\n",
       "       '12.4k', '1610', '20k', '16.1k', '2280', '43.2k', '5030', '20.8k',\n",
       "       '11.9k', '1290', '5040', '22.2k', '1040', '27.6k', '9930', '1200',\n",
       "       '5160', '5700', '56.2k', '64.7k', '3250', '4740', '31k', '12.8k',\n",
       "       '8520', '34.1k', '6320', '28.6k', '26.7k', '2090', '47.6k', '3320',\n",
       "       '97.7k', '1660', '8620', '17.5k', '31.3k', '38.1k', '52.5k',\n",
       "       '18.1k', '28.4k', '2590', '12.3k', '21.6k', '61.5k', '2630',\n",
       "       '12.6k', '3520', '3130'], dtype=object)"
      ]
     },
     "execution_count": 41,
     "metadata": {},
     "output_type": "execute_result"
    }
   ],
   "source": [
    "df_18['income'].unique()"
   ]
  },
  {
   "cell_type": "markdown",
   "metadata": {},
   "source": [
    "From the above; there is an issue with income data type (showing as an object) instead of an Integer. Checking the Unique Values in the column we see the income data of some row values has been approximated to include a K, this represents the float value preceding multiply by 1000./n\n",
    "Secondly, A woman cannot have a half child; therefore the values on child_per_woman column will be changed to integers.\n",
    "\n",
    "The next section, I will be doing the following:\n",
    "1. Manipulating the income column to convert the K to *1000 without affecting other values on the column & change the datatype to Integer. Thanks to this  <a href=\"https://pandas.pydata.org/docs/reference/api/pandas.DataFrame.replace.html\">documentation</a> and <a href=\"https://pandas.pydata.org/docs/reference/api/pandas.eval.html\">pandas.eval.</a>\n",
    "2. Approximating the Child Per Woman column and changing the datatype to integers"
   ]
  },
  {
   "cell_type": "code",
   "execution_count": 42,
   "metadata": {},
   "outputs": [],
   "source": [
    "# I define a new variable assigning *1000 to any 'k' string in the df_08 income column\n",
    "df_08_adjusted = df_08['income'].replace({'[kK]': '*1000'}, regex=True)\n",
    "# Then I assigned the value of the new variable to the income column of the df_08 dataframe\n",
    "# I used pd.eval to valuate expression\n",
    "# .astype to convert the column to integer\n",
    "df_08['income'] = df_08_adjusted.map(pd.eval).astype(int)"
   ]
  },
  {
   "cell_type": "code",
   "execution_count": 43,
   "metadata": {},
   "outputs": [],
   "source": [
    "# I define a new variable assigning *1000 to any 'k' string in the df_18 income column\n",
    "df_18_adjusted = df_18['income'].replace({'[kK]': '*1000'}, regex=True)\n",
    "\n",
    "# Then I assigned the value of the new variable to the income column of the df_18 dataframe\n",
    "# I used pd.eval to valuate the expression\n",
    "# .astype to convert the column to integer\n",
    "\n",
    "df_18['income'] = df_18_adjusted.map(pd.eval).astype(int)"
   ]
  },
  {
   "cell_type": "code",
   "execution_count": 44,
   "metadata": {},
   "outputs": [],
   "source": [
    "# round up the child per woman column.\n",
    "df_08['child_per_woman'] = round(df_08['child_per_woman']).astype(int)\n",
    "df_18['child_per_woman'] = round(df_18['child_per_woman']).astype(int)"
   ]
  },
  {
   "cell_type": "code",
   "execution_count": 45,
   "metadata": {},
   "outputs": [
    {
     "name": "stdout",
     "output_type": "stream",
     "text": [
      "country             object\n",
      "income               int32\n",
      "child_per_woman      int32\n",
      "life_expectancy    float64\n",
      "happiness_score    float64\n",
      "hdi                float64\n",
      "dtype: object\n"
     ]
    },
    {
     "data": {
      "text/html": [
       "<div>\n",
       "<style scoped>\n",
       "    .dataframe tbody tr th:only-of-type {\n",
       "        vertical-align: middle;\n",
       "    }\n",
       "\n",
       "    .dataframe tbody tr th {\n",
       "        vertical-align: top;\n",
       "    }\n",
       "\n",
       "    .dataframe thead th {\n",
       "        text-align: right;\n",
       "    }\n",
       "</style>\n",
       "<table border=\"1\" class=\"dataframe\">\n",
       "  <thead>\n",
       "    <tr style=\"text-align: right;\">\n",
       "      <th></th>\n",
       "      <th>country</th>\n",
       "      <th>income</th>\n",
       "      <th>child_per_woman</th>\n",
       "      <th>life_expectancy</th>\n",
       "      <th>happiness_score</th>\n",
       "      <th>hdi</th>\n",
       "    </tr>\n",
       "  </thead>\n",
       "  <tbody>\n",
       "    <tr>\n",
       "      <th>0</th>\n",
       "      <td>Afghanistan</td>\n",
       "      <td>1480</td>\n",
       "      <td>6</td>\n",
       "      <td>59.2</td>\n",
       "      <td>37.2</td>\n",
       "      <td>0.447</td>\n",
       "    </tr>\n",
       "    <tr>\n",
       "      <th>3</th>\n",
       "      <td>Argentina</td>\n",
       "      <td>23100</td>\n",
       "      <td>2</td>\n",
       "      <td>75.7</td>\n",
       "      <td>59.6</td>\n",
       "      <td>0.821</td>\n",
       "    </tr>\n",
       "    <tr>\n",
       "      <th>4</th>\n",
       "      <td>Armenia</td>\n",
       "      <td>10500</td>\n",
       "      <td>1</td>\n",
       "      <td>73.5</td>\n",
       "      <td>46.5</td>\n",
       "      <td>0.745</td>\n",
       "    </tr>\n",
       "  </tbody>\n",
       "</table>\n",
       "</div>"
      ],
      "text/plain": [
       "       country  income  child_per_woman  life_expectancy  happiness_score  \\\n",
       "0  Afghanistan    1480                6             59.2             37.2   \n",
       "3    Argentina   23100                2             75.7             59.6   \n",
       "4      Armenia   10500                1             73.5             46.5   \n",
       "\n",
       "     hdi  \n",
       "0  0.447  \n",
       "3  0.821  \n",
       "4  0.745  "
      ]
     },
     "execution_count": 45,
     "metadata": {},
     "output_type": "execute_result"
    }
   ],
   "source": [
    "# checking the datatypes again\n",
    "print(df_08.dtypes)\n",
    "df_08.head(3)"
   ]
  },
  {
   "cell_type": "code",
   "execution_count": 46,
   "metadata": {},
   "outputs": [
    {
     "name": "stdout",
     "output_type": "stream",
     "text": [
      "country             object\n",
      "income               int32\n",
      "child_per_woman      int32\n",
      "life_expectancy    float64\n",
      "happiness_score    float64\n",
      "hdi                float64\n",
      "dtype: object\n"
     ]
    },
    {
     "data": {
      "text/html": [
       "<div>\n",
       "<style scoped>\n",
       "    .dataframe tbody tr th:only-of-type {\n",
       "        vertical-align: middle;\n",
       "    }\n",
       "\n",
       "    .dataframe tbody tr th {\n",
       "        vertical-align: top;\n",
       "    }\n",
       "\n",
       "    .dataframe thead th {\n",
       "        text-align: right;\n",
       "    }\n",
       "</style>\n",
       "<table border=\"1\" class=\"dataframe\">\n",
       "  <thead>\n",
       "    <tr style=\"text-align: right;\">\n",
       "      <th></th>\n",
       "      <th>country</th>\n",
       "      <th>income</th>\n",
       "      <th>child_per_woman</th>\n",
       "      <th>life_expectancy</th>\n",
       "      <th>happiness_score</th>\n",
       "      <th>hdi</th>\n",
       "    </tr>\n",
       "  </thead>\n",
       "  <tbody>\n",
       "    <tr>\n",
       "      <th>0</th>\n",
       "      <td>Afghanistan</td>\n",
       "      <td>2030</td>\n",
       "      <td>4</td>\n",
       "      <td>62.7</td>\n",
       "      <td>26.9</td>\n",
       "      <td>0.509</td>\n",
       "    </tr>\n",
       "    <tr>\n",
       "      <th>1</th>\n",
       "      <td>Albania</td>\n",
       "      <td>13400</td>\n",
       "      <td>2</td>\n",
       "      <td>78.4</td>\n",
       "      <td>50.0</td>\n",
       "      <td>0.792</td>\n",
       "    </tr>\n",
       "    <tr>\n",
       "      <th>2</th>\n",
       "      <td>United Arab Emirates</td>\n",
       "      <td>67000</td>\n",
       "      <td>2</td>\n",
       "      <td>73.7</td>\n",
       "      <td>66.0</td>\n",
       "      <td>0.889</td>\n",
       "    </tr>\n",
       "  </tbody>\n",
       "</table>\n",
       "</div>"
      ],
      "text/plain": [
       "                country  income  child_per_woman  life_expectancy  \\\n",
       "0           Afghanistan    2030                4             62.7   \n",
       "1               Albania   13400                2             78.4   \n",
       "2  United Arab Emirates   67000                2             73.7   \n",
       "\n",
       "   happiness_score    hdi  \n",
       "0             26.9  0.509  \n",
       "1             50.0  0.792  \n",
       "2             66.0  0.889  "
      ]
     },
     "execution_count": 46,
     "metadata": {},
     "output_type": "execute_result"
    }
   ],
   "source": [
    "# checking the datatypes again\n",
    "print(df_18.dtypes)\n",
    "df_18.head(3)"
   ]
  },
  {
   "cell_type": "markdown",
   "metadata": {},
   "source": [
    "<a id='eda'></a>\n",
    "## Exploratory Data Analysis\n",
    "The dataset has been cleaned fully, this section we will look be exploring the dataset to generate insight based on the questions generated in the Introduction to this project\n",
    "\n",
    "### General overview of the dataset"
   ]
  },
  {
   "cell_type": "code",
   "execution_count": 47,
   "metadata": {
    "collapsed": true
   },
   "outputs": [
    {
     "data": {
      "image/png": "[encoded data removed]",
      "text/plain": [
       "<Figure size 576x576 with 6 Axes>"
      ]
     },
     "metadata": {
      "needs_background": "light"
     },
     "output_type": "display_data"
    }
   ],
   "source": [
    "df_08.hist(figsize =(8,8));"
   ]
  },
  {
   "cell_type": "code",
   "execution_count": 48,
   "metadata": {
    "collapsed": true
   },
   "outputs": [
    {
     "data": {
      "image/png": "[encoded data removed]",
      "text/plain": [
       "<Figure size 576x576 with 6 Axes>"
      ]
     },
     "metadata": {
      "needs_background": "light"
     },
     "output_type": "display_data"
    }
   ],
   "source": [
    "df_18.hist(figsize =(8,8));"
   ]
  },
  {
   "cell_type": "markdown",
   "metadata": {},
   "source": [
    "The general chart for both 2008 & 2018 data shows that the income is heavily skewed to the right, this could mean there's a huge income gap between some countries.\n",
    "\n",
    "The **Life expectancy** is also heavily skewed to the left."
   ]
  },
  {
   "cell_type": "markdown",
   "metadata": {
    "collapsed": true
   },
   "source": [
    "#### Checking for outliers"
   ]
  },
  {
   "cell_type": "code",
   "execution_count": 49,
   "metadata": {
    "collapsed": true
   },
   "outputs": [
    {
     "data": {
      "image/png": "[encoded data removed]",
      "text/plain": [
       "<Figure size 432x288 with 1 Axes>"
      ]
     },
     "metadata": {
      "needs_background": "light"
     },
     "output_type": "display_data"
    }
   ],
   "source": [
    "df_08['income'].plot(kind='box');"
   ]
  },
  {
   "cell_type": "code",
   "execution_count": 50,
   "metadata": {
    "collapsed": true
   },
   "outputs": [
    {
     "data": {
      "image/png": "[encoded data removed]",
      "text/plain": [
       "<Figure size 432x288 with 1 Axes>"
      ]
     },
     "metadata": {
      "needs_background": "light"
     },
     "output_type": "display_data"
    }
   ],
   "source": [
    "df_18['income'].plot(kind='box');"
   ]
  },
  {
   "cell_type": "markdown",
   "metadata": {},
   "source": [
    "THe box plot for the income rows in 2008 & 2018 above shows some Outliers. This could mean some coutries earn significantly higher than many other countries (thus those coutries income is counted as an outlier)."
   ]
  },
  {
   "cell_type": "code",
   "execution_count": 51,
   "metadata": {
    "collapsed": true
   },
   "outputs": [
    {
     "data": {
      "text/html": [
       "<div>\n",
       "<style scoped>\n",
       "    .dataframe tbody tr th:only-of-type {\n",
       "        vertical-align: middle;\n",
       "    }\n",
       "\n",
       "    .dataframe tbody tr th {\n",
       "        vertical-align: top;\n",
       "    }\n",
       "\n",
       "    .dataframe thead th {\n",
       "        text-align: right;\n",
       "    }\n",
       "</style>\n",
       "<table border=\"1\" class=\"dataframe\">\n",
       "  <thead>\n",
       "    <tr style=\"text-align: right;\">\n",
       "      <th></th>\n",
       "      <th>income</th>\n",
       "      <th>child_per_woman</th>\n",
       "      <th>life_expectancy</th>\n",
       "      <th>happiness_score</th>\n",
       "      <th>hdi</th>\n",
       "    </tr>\n",
       "  </thead>\n",
       "  <tbody>\n",
       "    <tr>\n",
       "      <th>count</th>\n",
       "      <td>101.000000</td>\n",
       "      <td>101.000000</td>\n",
       "      <td>101.000000</td>\n",
       "      <td>101.000000</td>\n",
       "      <td>101.000000</td>\n",
       "    </tr>\n",
       "    <tr>\n",
       "      <th>mean</th>\n",
       "      <td>18596.594059</td>\n",
       "      <td>2.920792</td>\n",
       "      <td>70.868317</td>\n",
       "      <td>54.544554</td>\n",
       "      <td>0.690782</td>\n",
       "    </tr>\n",
       "    <tr>\n",
       "      <th>std</th>\n",
       "      <td>18343.039627</td>\n",
       "      <td>1.616683</td>\n",
       "      <td>8.598371</td>\n",
       "      <td>11.763592</td>\n",
       "      <td>0.166101</td>\n",
       "    </tr>\n",
       "    <tr>\n",
       "      <th>min</th>\n",
       "      <td>828.000000</td>\n",
       "      <td>1.000000</td>\n",
       "      <td>48.900000</td>\n",
       "      <td>30.000000</td>\n",
       "      <td>0.314000</td>\n",
       "    </tr>\n",
       "    <tr>\n",
       "      <th>25%</th>\n",
       "      <td>4140.000000</td>\n",
       "      <td>2.000000</td>\n",
       "      <td>65.000000</td>\n",
       "      <td>45.900000</td>\n",
       "      <td>0.535000</td>\n",
       "    </tr>\n",
       "    <tr>\n",
       "      <th>50%</th>\n",
       "      <td>11400.000000</td>\n",
       "      <td>2.000000</td>\n",
       "      <td>72.100000</td>\n",
       "      <td>51.700000</td>\n",
       "      <td>0.716000</td>\n",
       "    </tr>\n",
       "    <tr>\n",
       "      <th>75%</th>\n",
       "      <td>29700.000000</td>\n",
       "      <td>4.000000</td>\n",
       "      <td>78.500000</td>\n",
       "      <td>64.100000</td>\n",
       "      <td>0.828000</td>\n",
       "    </tr>\n",
       "    <tr>\n",
       "      <th>max</th>\n",
       "      <td>71500.000000</td>\n",
       "      <td>8.000000</td>\n",
       "      <td>83.100000</td>\n",
       "      <td>79.700000</td>\n",
       "      <td>0.937000</td>\n",
       "    </tr>\n",
       "  </tbody>\n",
       "</table>\n",
       "</div>"
      ],
      "text/plain": [
       "             income  child_per_woman  life_expectancy  happiness_score  \\\n",
       "count    101.000000       101.000000       101.000000       101.000000   \n",
       "mean   18596.594059         2.920792        70.868317        54.544554   \n",
       "std    18343.039627         1.616683         8.598371        11.763592   \n",
       "min      828.000000         1.000000        48.900000        30.000000   \n",
       "25%     4140.000000         2.000000        65.000000        45.900000   \n",
       "50%    11400.000000         2.000000        72.100000        51.700000   \n",
       "75%    29700.000000         4.000000        78.500000        64.100000   \n",
       "max    71500.000000         8.000000        83.100000        79.700000   \n",
       "\n",
       "              hdi  \n",
       "count  101.000000  \n",
       "mean     0.690782  \n",
       "std      0.166101  \n",
       "min      0.314000  \n",
       "25%      0.535000  \n",
       "50%      0.716000  \n",
       "75%      0.828000  \n",
       "max      0.937000  "
      ]
     },
     "execution_count": 51,
     "metadata": {},
     "output_type": "execute_result"
    }
   ],
   "source": [
    "df_08.describe()"
   ]
  },
  {
   "cell_type": "code",
   "execution_count": 52,
   "metadata": {
    "collapsed": true
   },
   "outputs": [
    {
     "data": {
      "text/html": [
       "<div>\n",
       "<style scoped>\n",
       "    .dataframe tbody tr th:only-of-type {\n",
       "        vertical-align: middle;\n",
       "    }\n",
       "\n",
       "    .dataframe tbody tr th {\n",
       "        vertical-align: top;\n",
       "    }\n",
       "\n",
       "    .dataframe thead th {\n",
       "        text-align: right;\n",
       "    }\n",
       "</style>\n",
       "<table border=\"1\" class=\"dataframe\">\n",
       "  <thead>\n",
       "    <tr style=\"text-align: right;\">\n",
       "      <th></th>\n",
       "      <th>income</th>\n",
       "      <th>child_per_woman</th>\n",
       "      <th>life_expectancy</th>\n",
       "      <th>happiness_score</th>\n",
       "      <th>hdi</th>\n",
       "    </tr>\n",
       "  </thead>\n",
       "  <tbody>\n",
       "    <tr>\n",
       "      <th>count</th>\n",
       "      <td>124.000000</td>\n",
       "      <td>124.000000</td>\n",
       "      <td>124.000000</td>\n",
       "      <td>124.000000</td>\n",
       "      <td>124.00000</td>\n",
       "    </tr>\n",
       "    <tr>\n",
       "      <th>mean</th>\n",
       "      <td>22040.177419</td>\n",
       "      <td>2.596774</td>\n",
       "      <td>73.819355</td>\n",
       "      <td>55.238710</td>\n",
       "      <td>0.73704</td>\n",
       "    </tr>\n",
       "    <tr>\n",
       "      <th>std</th>\n",
       "      <td>21523.511493</td>\n",
       "      <td>1.274639</td>\n",
       "      <td>6.901074</td>\n",
       "      <td>11.294223</td>\n",
       "      <td>0.15490</td>\n",
       "    </tr>\n",
       "    <tr>\n",
       "      <th>min</th>\n",
       "      <td>762.000000</td>\n",
       "      <td>1.000000</td>\n",
       "      <td>57.800000</td>\n",
       "      <td>26.900000</td>\n",
       "      <td>0.39100</td>\n",
       "    </tr>\n",
       "    <tr>\n",
       "      <th>25%</th>\n",
       "      <td>5107.500000</td>\n",
       "      <td>2.000000</td>\n",
       "      <td>68.475000</td>\n",
       "      <td>47.425000</td>\n",
       "      <td>0.60350</td>\n",
       "    </tr>\n",
       "    <tr>\n",
       "      <th>50%</th>\n",
       "      <td>14250.000000</td>\n",
       "      <td>2.000000</td>\n",
       "      <td>75.200000</td>\n",
       "      <td>54.800000</td>\n",
       "      <td>0.76700</td>\n",
       "    </tr>\n",
       "    <tr>\n",
       "      <th>75%</th>\n",
       "      <td>34400.000000</td>\n",
       "      <td>3.000000</td>\n",
       "      <td>79.925000</td>\n",
       "      <td>62.875000</td>\n",
       "      <td>0.86625</td>\n",
       "    </tr>\n",
       "    <tr>\n",
       "      <th>max</th>\n",
       "      <td>114000.000000</td>\n",
       "      <td>7.000000</td>\n",
       "      <td>84.800000</td>\n",
       "      <td>78.600000</td>\n",
       "      <td>0.95600</td>\n",
       "    </tr>\n",
       "  </tbody>\n",
       "</table>\n",
       "</div>"
      ],
      "text/plain": [
       "              income  child_per_woman  life_expectancy  happiness_score  \\\n",
       "count     124.000000       124.000000       124.000000       124.000000   \n",
       "mean    22040.177419         2.596774        73.819355        55.238710   \n",
       "std     21523.511493         1.274639         6.901074        11.294223   \n",
       "min       762.000000         1.000000        57.800000        26.900000   \n",
       "25%      5107.500000         2.000000        68.475000        47.425000   \n",
       "50%     14250.000000         2.000000        75.200000        54.800000   \n",
       "75%     34400.000000         3.000000        79.925000        62.875000   \n",
       "max    114000.000000         7.000000        84.800000        78.600000   \n",
       "\n",
       "             hdi  \n",
       "count  124.00000  \n",
       "mean     0.73704  \n",
       "std      0.15490  \n",
       "min      0.39100  \n",
       "25%      0.60350  \n",
       "50%      0.76700  \n",
       "75%      0.86625  \n",
       "max      0.95600  "
      ]
     },
     "execution_count": 52,
     "metadata": {},
     "output_type": "execute_result"
    }
   ],
   "source": [
    "df_18.describe()"
   ]
  },
  {
   "cell_type": "markdown",
   "metadata": {},
   "source": [
    "The above further confirms what we saw from the Box Plot:\n",
    "There's a significant gap in the income of some countries compared to their counterparts in other countries."
   ]
  },
  {
   "cell_type": "markdown",
   "metadata": {},
   "source": [
    "## Questions for Analysis\n",
    "\n",
    "### Which countries recorded the highest income in 2008 and 2018 respectively?"
   ]
  },
  {
   "cell_type": "code",
   "execution_count": 53,
   "metadata": {
    "scrolled": true
   },
   "outputs": [
    {
     "data": {
      "text/html": [
       "<div>\n",
       "<style scoped>\n",
       "    .dataframe tbody tr th:only-of-type {\n",
       "        vertical-align: middle;\n",
       "    }\n",
       "\n",
       "    .dataframe tbody tr th {\n",
       "        vertical-align: top;\n",
       "    }\n",
       "\n",
       "    .dataframe thead th {\n",
       "        text-align: right;\n",
       "    }\n",
       "</style>\n",
       "<table border=\"1\" class=\"dataframe\">\n",
       "  <thead>\n",
       "    <tr style=\"text-align: right;\">\n",
       "      <th></th>\n",
       "      <th>country</th>\n",
       "      <th>income</th>\n",
       "      <th>child_per_woman</th>\n",
       "      <th>life_expectancy</th>\n",
       "      <th>happiness_score</th>\n",
       "      <th>hdi</th>\n",
       "    </tr>\n",
       "  </thead>\n",
       "  <tbody>\n",
       "    <tr>\n",
       "      <th>57</th>\n",
       "      <td>Ireland</td>\n",
       "      <td>55700</td>\n",
       "      <td>2</td>\n",
       "      <td>80.0</td>\n",
       "      <td>75.7</td>\n",
       "      <td>0.911</td>\n",
       "    </tr>\n",
       "    <tr>\n",
       "      <th>100</th>\n",
       "      <td>Norway</td>\n",
       "      <td>63800</td>\n",
       "      <td>2</td>\n",
       "      <td>80.9</td>\n",
       "      <td>76.3</td>\n",
       "      <td>0.937</td>\n",
       "    </tr>\n",
       "    <tr>\n",
       "      <th>117</th>\n",
       "      <td>Singapore</td>\n",
       "      <td>71500</td>\n",
       "      <td>1</td>\n",
       "      <td>82.1</td>\n",
       "      <td>66.4</td>\n",
       "      <td>0.888</td>\n",
       "    </tr>\n",
       "  </tbody>\n",
       "</table>\n",
       "</div>"
      ],
      "text/plain": [
       "       country  income  child_per_woman  life_expectancy  happiness_score  \\\n",
       "57     Ireland   55700                2             80.0             75.7   \n",
       "100     Norway   63800                2             80.9             76.3   \n",
       "117  Singapore   71500                1             82.1             66.4   \n",
       "\n",
       "       hdi  \n",
       "57   0.911  \n",
       "100  0.937  \n",
       "117  0.888  "
      ]
     },
     "execution_count": 53,
     "metadata": {},
     "output_type": "execute_result"
    }
   ],
   "source": [
    "#high_income_08 = df_08[df_08['income'] == df_08.income.max()]\n",
    "#df_select = high_income_08.iloc[:,]\n",
    "#df_select\n",
    "#co_name = df_select['country']\n",
    "#co_income = df_select['country']\n",
    "\n",
    "df_08.iloc[df_08['income'].argsort()[-3:]]"
   ]
  },
  {
   "cell_type": "markdown",
   "metadata": {},
   "source": [
    "The countries that returned the highest income in 2008 are:\n",
    "1. Singapore: 71500\n",
    "2. Norway: 63800\n",
    "3. Ireland: 55700"
   ]
  },
  {
   "cell_type": "code",
   "execution_count": 54,
   "metadata": {},
   "outputs": [
    {
     "data": {
      "text/html": [
       "<div>\n",
       "<style scoped>\n",
       "    .dataframe tbody tr th:only-of-type {\n",
       "        vertical-align: middle;\n",
       "    }\n",
       "\n",
       "    .dataframe tbody tr th {\n",
       "        vertical-align: top;\n",
       "    }\n",
       "\n",
       "    .dataframe thead th {\n",
       "        text-align: right;\n",
       "    }\n",
       "</style>\n",
       "<table border=\"1\" class=\"dataframe\">\n",
       "  <thead>\n",
       "    <tr style=\"text-align: right;\">\n",
       "      <th></th>\n",
       "      <th>country</th>\n",
       "      <th>income</th>\n",
       "      <th>child_per_woman</th>\n",
       "      <th>life_expectancy</th>\n",
       "      <th>happiness_score</th>\n",
       "      <th>hdi</th>\n",
       "    </tr>\n",
       "  </thead>\n",
       "  <tbody>\n",
       "    <tr>\n",
       "      <th>57</th>\n",
       "      <td>Ireland</td>\n",
       "      <td>83400</td>\n",
       "      <td>2</td>\n",
       "      <td>82.0</td>\n",
       "      <td>69.6</td>\n",
       "      <td>0.951</td>\n",
       "    </tr>\n",
       "    <tr>\n",
       "      <th>117</th>\n",
       "      <td>Singapore</td>\n",
       "      <td>97700</td>\n",
       "      <td>1</td>\n",
       "      <td>84.7</td>\n",
       "      <td>63.7</td>\n",
       "      <td>0.936</td>\n",
       "    </tr>\n",
       "    <tr>\n",
       "      <th>77</th>\n",
       "      <td>Luxembourg</td>\n",
       "      <td>114000</td>\n",
       "      <td>2</td>\n",
       "      <td>82.9</td>\n",
       "      <td>72.4</td>\n",
       "      <td>0.913</td>\n",
       "    </tr>\n",
       "  </tbody>\n",
       "</table>\n",
       "</div>"
      ],
      "text/plain": [
       "        country  income  child_per_woman  life_expectancy  happiness_score  \\\n",
       "57      Ireland   83400                2             82.0             69.6   \n",
       "117   Singapore   97700                1             84.7             63.7   \n",
       "77   Luxembourg  114000                2             82.9             72.4   \n",
       "\n",
       "       hdi  \n",
       "57   0.951  \n",
       "117  0.936  \n",
       "77   0.913  "
      ]
     },
     "execution_count": 54,
     "metadata": {},
     "output_type": "execute_result"
    }
   ],
   "source": [
    "#df_18[df_18['income'] == df_18.income.max()]\n",
    "df_18.iloc[df_18.income.argsort()[-3:]]"
   ]
  },
  {
   "cell_type": "markdown",
   "metadata": {},
   "source": [
    "The countries that returned the highest income in 2018 are:\n",
    "1. Luxembourg: 114000\n",
    "2. Singapore: 97700\n",
    "3. Ireland: 83400"
   ]
  },
  {
   "cell_type": "markdown",
   "metadata": {},
   "source": [
    "### Do countries that make more Income produce more babies in 2008?"
   ]
  },
  {
   "cell_type": "code",
   "execution_count": 55,
   "metadata": {},
   "outputs": [
    {
     "data": {
      "text/plain": [
       "11400.0"
      ]
     },
     "execution_count": 55,
     "metadata": {},
     "output_type": "execute_result"
    }
   ],
   "source": [
    "# we will derive the average income across all countries\n",
    "mid_income_08 = df_08['income'].median()\n",
    "mid_income_08"
   ]
  },
  {
   "cell_type": "code",
   "execution_count": 56,
   "metadata": {},
   "outputs": [],
   "source": [
    "# seperating the low income countries from those with a higher income\n",
    "low_income_countries = df_08.query('income < 11400')\n",
    "\n",
    "high_income_countries = df_08.query('income >= 11400')\n",
    "\n",
    "# dataframe_name.groupby(['column1_to_groupby', 'column2_to_groupby'], as_index=False)['column_to_show'].mean()"
   ]
  },
  {
   "cell_type": "code",
   "execution_count": 57,
   "metadata": {},
   "outputs": [],
   "source": [
    "mean_low_income = low_income_countries['child_per_woman'].mean()\n",
    "mean_high_income = high_income_countries['child_per_woman'].mean()"
   ]
  },
  {
   "cell_type": "code",
   "execution_count": 58,
   "metadata": {},
   "outputs": [
    {
     "data": {
      "image/png": "[encoded data removed]",
      "text/plain": [
       "<Figure size 432x288 with 1 Axes>"
      ]
     },
     "metadata": {
      "needs_background": "light"
     },
     "output_type": "display_data"
    }
   ],
   "source": [
    "# Visualizing the difference in birth by income\n",
    "xlocal = [1, 2]\n",
    "heights = [mean_low_income, mean_high_income]\n",
    "labels = ['Low', 'High']\n",
    "plt.bar(xlocal, heights, tick_label=labels)\n",
    "plt.title('Average children per Woman by Income level', fontsize=16)\n",
    "plt.xlabel('Income Level', fontsize=12)\n",
    "plt.ylabel('Average children per woman', fontsize=12);"
   ]
  },
  {
   "cell_type": "markdown",
   "metadata": {},
   "source": [
    "The visual above shows that the low income earning countries produce more children significantly when compared with the higher income earning countries"
   ]
  },
  {
   "cell_type": "markdown",
   "metadata": {},
   "source": [
    "### Which country was the happiest in 2008"
   ]
  },
  {
   "cell_type": "code",
   "execution_count": 59,
   "metadata": {},
   "outputs": [],
   "source": [
    "happy_country = max(df_08['happiness_score'])"
   ]
  },
  {
   "cell_type": "code",
   "execution_count": 60,
   "metadata": {
    "scrolled": true
   },
   "outputs": [
    {
     "data": {
      "text/html": [
       "<div>\n",
       "<style scoped>\n",
       "    .dataframe tbody tr th:only-of-type {\n",
       "        vertical-align: middle;\n",
       "    }\n",
       "\n",
       "    .dataframe tbody tr th {\n",
       "        vertical-align: top;\n",
       "    }\n",
       "\n",
       "    .dataframe thead th {\n",
       "        text-align: right;\n",
       "    }\n",
       "</style>\n",
       "<table border=\"1\" class=\"dataframe\">\n",
       "  <thead>\n",
       "    <tr style=\"text-align: right;\">\n",
       "      <th></th>\n",
       "      <th>country</th>\n",
       "      <th>income</th>\n",
       "      <th>child_per_woman</th>\n",
       "      <th>life_expectancy</th>\n",
       "      <th>happiness_score</th>\n",
       "      <th>hdi</th>\n",
       "    </tr>\n",
       "  </thead>\n",
       "  <tbody>\n",
       "    <tr>\n",
       "      <th>34</th>\n",
       "      <td>Denmark</td>\n",
       "      <td>53200</td>\n",
       "      <td>2</td>\n",
       "      <td>79.0</td>\n",
       "      <td>79.7</td>\n",
       "      <td>0.917</td>\n",
       "    </tr>\n",
       "  </tbody>\n",
       "</table>\n",
       "</div>"
      ],
      "text/plain": [
       "    country  income  child_per_woman  life_expectancy  happiness_score    hdi\n",
       "34  Denmark   53200                2             79.0             79.7  0.917"
      ]
     },
     "execution_count": 60,
     "metadata": {},
     "output_type": "execute_result"
    }
   ],
   "source": [
    "df_08[df_08['happiness_score']== happy_country]"
   ]
  },
  {
   "cell_type": "markdown",
   "metadata": {},
   "source": [
    "The Happiest country in 2008 according to the happiness score was **Denmark**"
   ]
  },
  {
   "cell_type": "markdown",
   "metadata": {},
   "source": [
    "###  Are countries who make more Income happier in 2018?"
   ]
  },
  {
   "cell_type": "code",
   "execution_count": 61,
   "metadata": {},
   "outputs": [
    {
     "data": {
      "text/plain": [
       "14250.0"
      ]
     },
     "execution_count": 61,
     "metadata": {},
     "output_type": "execute_result"
    }
   ],
   "source": [
    "# we will derive the average income across all countries in 2018\n",
    "mid_income_18 = df_18['income'].median()\n",
    "mid_income_18"
   ]
  },
  {
   "cell_type": "code",
   "execution_count": 62,
   "metadata": {},
   "outputs": [],
   "source": [
    "# seperating the low income countries from those with a higher income in 2018\n",
    "low_income_countries_18 = df_08.query('income < {}'.format(mid_income_18))\n",
    "\n",
    "high_income_countries_18 = df_08.query('income >= {}'.format(mid_income_18))\n"
   ]
  },
  {
   "cell_type": "code",
   "execution_count": 63,
   "metadata": {},
   "outputs": [],
   "source": [
    "mean_low_income_18 = low_income_countries_18['happiness_score'].mean()\n",
    "mean_high_income_18 = high_income_countries_18['happiness_score'].mean()"
   ]
  },
  {
   "cell_type": "code",
   "execution_count": 64,
   "metadata": {
    "scrolled": true
   },
   "outputs": [
    {
     "data": {
      "image/png": "[encoded data removed]",
      "text/plain": [
       "<Figure size 432x288 with 1 Axes>"
      ]
     },
     "metadata": {
      "needs_background": "light"
     },
     "output_type": "display_data"
    }
   ],
   "source": [
    "# Visualizing the happiness score by income levels\n",
    "xlocal = [1, 2]\n",
    "heights = [mean_low_income_18, mean_high_income_18]\n",
    "labels = ['Low', 'High']\n",
    "colours = ['Teal', 'Teal']\n",
    "plt.bar(xlocal, heights, tick_label=labels, color=colours)\n",
    "plt.title('Average happiness score by Income level', fontsize=16)\n",
    "plt.xlabel('Income Level', fontsize=12)\n",
    "plt.ylabel('Average Happiness Score', fontsize=12);"
   ]
  },
  {
   "cell_type": "code",
   "execution_count": 65,
   "metadata": {},
   "outputs": [
    {
     "data": {
      "image/png": "[encoded data removed]",
      "text/plain": [
       "<Figure size 432x288 with 1 Axes>"
      ]
     },
     "metadata": {
      "needs_background": "light"
     },
     "output_type": "display_data"
    }
   ],
   "source": [
    "low_income_countries_18.happiness_score.hist(alpha = 0.8, label='low_income')\n",
    "high_income_countries_18.happiness_score.hist(alpha = 0.8, label='high_income')\n",
    "plt.title('Happiness score by Income level', fontsize=16)\n",
    "plt.xlabel('Happiness Score', fontsize=12)\n",
    "plt.legend();"
   ]
  },
  {
   "cell_type": "markdown",
   "metadata": {},
   "source": [
    "The above distributions shows the happiness score between high income countries and low income countries. We see clearly from the visual that high income countries are happier than those in low incomes countries"
   ]
  },
  {
   "cell_type": "markdown",
   "metadata": {},
   "source": [
    "### What sort of correlation exist between the income made in a country and other indicators?"
   ]
  },
  {
   "cell_type": "code",
   "execution_count": 67,
   "metadata": {
    "collapsed": true
   },
   "outputs": [
    {
     "data": {
      "image/png": "[encoded data removed]",
      "text/plain": [
       "<Figure size 432x288 with 1 Axes>"
      ]
     },
     "metadata": {
      "needs_background": "light"
     },
     "output_type": "display_data"
    },
    {
     "data": {
      "image/png": "[encoded data removed]",
      "text/plain": [
       "<Figure size 432x288 with 1 Axes>"
      ]
     },
     "metadata": {
      "needs_background": "light"
     },
     "output_type": "display_data"
    }
   ],
   "source": [
    "df_08.plot(x='income', y= 'life_expectancy', kind = 'scatter')\n",
    "plt.title('Scatter plot between Income & Life Expectancy in 2008', fontsize=14)\n",
    "df_18.plot(x='income', y= 'life_expectancy', kind = 'scatter')\n",
    "plt.title('Scatter plot between Income & Life Expectancy in 2018', fontsize=14);"
   ]
  },
  {
   "cell_type": "code",
   "execution_count": 68,
   "metadata": {
    "collapsed": true
   },
   "outputs": [
    {
     "data": {
      "image/png": "[encoded data removed]",
      "text/plain": [
       "<Figure size 432x288 with 1 Axes>"
      ]
     },
     "metadata": {
      "needs_background": "light"
     },
     "output_type": "display_data"
    },
    {
     "data": {
      "image/png": "[encoded data removed]",
      "text/plain": [
       "<Figure size 432x288 with 1 Axes>"
      ]
     },
     "metadata": {
      "needs_background": "light"
     },
     "output_type": "display_data"
    }
   ],
   "source": [
    "df_08.plot(x='income', y= 'hdi', kind = 'scatter')\n",
    "plt.title('Scatter plot between Income & human development in 2008', fontsize=14)\n",
    "df_18.plot(x='income', y= 'hdi', kind = 'scatter')\n",
    "plt.title('Scatter plot between Income & human development in 2018', fontsize=14);"
   ]
  },
  {
   "cell_type": "code",
   "execution_count": 69,
   "metadata": {
    "collapsed": true
   },
   "outputs": [
    {
     "data": {
      "image/png": "[encoded data removed]",
      "text/plain": [
       "<Figure size 432x288 with 1 Axes>"
      ]
     },
     "metadata": {
      "needs_background": "light"
     },
     "output_type": "display_data"
    },
    {
     "data": {
      "image/png": "[encoded data removed]",
      "text/plain": [
       "<Figure size 432x288 with 1 Axes>"
      ]
     },
     "metadata": {
      "needs_background": "light"
     },
     "output_type": "display_data"
    }
   ],
   "source": [
    "df_08.plot(x='income', y= 'happiness_score', kind = 'scatter')\n",
    "plt.title('Scatter plot between Income & happiness score in 2008', fontsize=14)\n",
    "df_18.plot(x='income', y= 'happiness_score', kind = 'scatter')\n",
    "plt.title('Scatter plot between Income & happiness score in 2018', fontsize=14);"
   ]
  },
  {
   "cell_type": "code",
   "execution_count": 70,
   "metadata": {
    "collapsed": true
   },
   "outputs": [
    {
     "data": {
      "image/png": "[encoded data removed]",
      "text/plain": [
       "<Figure size 432x288 with 1 Axes>"
      ]
     },
     "metadata": {
      "needs_background": "light"
     },
     "output_type": "display_data"
    },
    {
     "data": {
      "image/png": "[encoded data removed]",
      "text/plain": [
       "<Figure size 432x288 with 1 Axes>"
      ]
     },
     "metadata": {
      "needs_background": "light"
     },
     "output_type": "display_data"
    }
   ],
   "source": [
    "df_08.plot(x='income', y= 'child_per_woman', kind = 'scatter')\n",
    "plt.title('Scatter plot between Income & children per woman in 2008', fontsize=14)\n",
    "df_18.plot(x='income', y= 'child_per_woman', kind = 'scatter')\n",
    "plt.title('Scatter plot between Income & children per woman in 2018', fontsize=14);"
   ]
  },
  {
   "cell_type": "markdown",
   "metadata": {},
   "source": [
    "The above scatter plot shows that the income made in a country has apositive corrlation with other indicators of the analysis except with Chidren per Woman which shows a Negative correlation."
   ]
  },
  {
   "cell_type": "markdown",
   "metadata": {},
   "source": [
    "### Which Continent had the highest income 2018?"
   ]
  },
  {
   "cell_type": "code",
   "execution_count": 72,
   "metadata": {},
   "outputs": [],
   "source": [
    "# To return the continent with the highest income, we must first group country column to their respective continent\n",
    "# Thus, I'll first define the seven continents as a list\n",
    "asia = ['Afghanistan', 'Armenia', 'Azerbaijan', 'Bahrain', 'Lao', 'Bangladesh', 'Kyrgyz Republic', 'Hong Kong, China', 'Bhutan', 'British Indian Ocean Territory', 'Brunei', 'Cambodia', 'China', 'Cyprus', 'Egypt', 'Georgia', 'Hong Kong', 'India', 'Indonesia', 'Iran', 'Iraq', 'Israel', 'Japan', 'Jordan', 'Kazakhstan', 'Kuwait', 'Kyrgyzstan', 'Laos', 'Lebanon', 'Macau', 'Malaysia', 'Maldives', 'Mongolia', 'Myanmar', 'Nepal', 'North Korea', 'Oman', 'Pakistan', 'Palestine', 'Philippines', 'Qatar', 'Russia', 'Saudi Arabia', 'Singapore', 'South Korea', 'Sri Lanka', 'Syria', 'Taiwan', 'Tajikistan', 'Thailand', 'Timor-Leste', 'East Timor', 'Turkey', 'Turkmenistan', 'United Arab Emirates', 'Uzbekistan', 'Vietnam', 'Yemen']\n",
    "africa = ['Algeria', 'Angola', 'Benin', 'Botswana', 'Burkina Faso', 'Burundi', 'Cape Verde', 'Cameroon', 'Central African Republic', 'Chad', 'Comoros', 'Congo', 'Congo, Rep.', 'Djibouti', 'Egypt', 'Equatorial Guinea', 'Eritrea', 'Eswatini', 'Ethiopia', 'Gabon', 'Gambia', 'Ghana', 'Guinea', 'Guinea-Bissau', 'Ivory Coast', \"Cote d'Ivoire\", 'Kenya', 'Lesotho', 'Liberia', 'Libya', 'Madagascar', 'Malawi', 'Mali', 'Mauritania', 'Mauritius', 'Morocco', 'Mozambique', 'Namibia', 'Niger', 'Nigeria', 'Rwanda', 'Sao Tome and Principe', 'Senegal', 'Seychelles', 'Sierra Leone', 'Somalia', 'South Africa', 'South Sudan', 'Sudan', 'Tanzania', 'Togo', 'Tunisia', 'Uganda', 'Zambia', 'Zimbabwe']\n",
    "europe = ['Albania', 'Andorra', 'Armenia', 'Austria', 'Azerbaijan', 'Slovak Republic', 'Belarus', 'Belgium', 'Bosnia and Herzegovina', 'Bulgaria', 'Croatia', 'Cyprus', 'Czechia', 'Czech Republic', 'Denmark', 'Estonia', 'Finland', 'France', 'Georgia', 'Germany', 'Greece', 'Hungary', 'Iceland', 'Ireland', 'Italy', 'Kazakhstan', 'Latvia', 'Liechtenstein', 'Lithuania', 'Luxembourg', 'Malta', 'Moldova', 'Monaco', 'Montenegro', 'Netherlands', 'North Macedonia', 'Norway', 'Poland', 'Portugal', 'Romania', 'Russia', 'San Marino', 'Serbia', 'Slovakia', 'Slovenia', 'Spain', 'Sweden', 'Switzerland', 'Turkey', 'Ukraine', 'United Kingdom', 'Vatican City']\n",
    "north_america =['Antigua and Barbuda', 'Bahamas', 'Barbados', 'Belize', 'Canada', 'Costa Rica', 'Cuba', 'Dominica', 'Dominican Republic', 'El Salvador', 'Grenada', 'Guatemala', 'Haiti', 'Honduras', 'Jamaica', 'Mexico', 'Nicaragua', 'Panama', 'Saint Kitts and Nevis', 'Saint Lucia', 'Saint Vincent and the Grenadines', 'Trinidad and Tobago', 'United States']\n",
    "south_america = ['Argentina', 'Bolivia', 'Brazil', 'Chile', 'Colombia', 'Ecuador', 'Guyana', 'Paraguay', 'Peru', 'Suriname', 'Uruguay', 'Venezuela']\n",
    "oceania = ['Australia', 'Fiji', 'Kiribati', 'Marshall Islands', 'Micronesia', 'Nauru', 'New Zealand', 'Palau', 'Papua New', 'Guinea', 'Samoa', 'Solomon Islands', 'Tonga', 'Tuvalu', 'Vanuatu']\n",
    "\n",
    "# I will get a list of all the countries on the df_18 dataframe\n",
    "row = list(df_18['country'])\n",
    "\n",
    "# Use a function to group countries to different continent\n",
    "def continent(row):\n",
    "    if row['country'] in asia:\n",
    "        return 'Asia'\n",
    "    elif row['country'] in africa:\n",
    "        return 'Africa'\n",
    "    elif row['country'] in europe:\n",
    "        return 'Europe'\n",
    "    elif row['country'] in north_america:\n",
    "        return 'North_america'\n",
    "    elif row['country'] in south_america:\n",
    "        return 'South_america'\n",
    "    elif row['country'] in oceania:\n",
    "        return 'Oceania'\n",
    "    else:\n",
    "        return 'None'\n",
    "    \n",
    "#crosscheck = df_18.apply (lambda row: continent(row), axis=1) # use this to crosscheck the continents\n",
    "#crosscheck\n",
    "df_18['continent'] = df_18.apply (lambda row: continent(row), axis=1)"
   ]
  },
  {
   "cell_type": "code",
   "execution_count": 77,
   "metadata": {},
   "outputs": [
    {
     "data": {
      "text/html": [
       "<div>\n",
       "<style scoped>\n",
       "    .dataframe tbody tr th:only-of-type {\n",
       "        vertical-align: middle;\n",
       "    }\n",
       "\n",
       "    .dataframe tbody tr th {\n",
       "        vertical-align: top;\n",
       "    }\n",
       "\n",
       "    .dataframe thead th {\n",
       "        text-align: right;\n",
       "    }\n",
       "</style>\n",
       "<table border=\"1\" class=\"dataframe\">\n",
       "  <thead>\n",
       "    <tr style=\"text-align: right;\">\n",
       "      <th></th>\n",
       "      <th>country</th>\n",
       "      <th>income</th>\n",
       "      <th>child_per_woman</th>\n",
       "      <th>life_expectancy</th>\n",
       "      <th>happiness_score</th>\n",
       "      <th>hdi</th>\n",
       "      <th>continent</th>\n",
       "    </tr>\n",
       "  </thead>\n",
       "  <tbody>\n",
       "    <tr>\n",
       "      <th>0</th>\n",
       "      <td>Afghanistan</td>\n",
       "      <td>2030</td>\n",
       "      <td>4</td>\n",
       "      <td>62.7</td>\n",
       "      <td>26.9</td>\n",
       "      <td>0.509</td>\n",
       "      <td>Asia</td>\n",
       "    </tr>\n",
       "    <tr>\n",
       "      <th>1</th>\n",
       "      <td>Albania</td>\n",
       "      <td>13400</td>\n",
       "      <td>2</td>\n",
       "      <td>78.4</td>\n",
       "      <td>50.0</td>\n",
       "      <td>0.792</td>\n",
       "      <td>Europe</td>\n",
       "    </tr>\n",
       "  </tbody>\n",
       "</table>\n",
       "</div>"
      ],
      "text/plain": [
       "       country  income  child_per_woman  life_expectancy  happiness_score  \\\n",
       "0  Afghanistan    2030                4             62.7             26.9   \n",
       "1      Albania   13400                2             78.4             50.0   \n",
       "\n",
       "     hdi continent  \n",
       "0  0.509      Asia  \n",
       "1  0.792    Europe  "
      ]
     },
     "execution_count": 77,
     "metadata": {},
     "output_type": "execute_result"
    }
   ],
   "source": [
    "df_18.head(2)"
   ]
  },
  {
   "cell_type": "code",
   "execution_count": 73,
   "metadata": {},
   "outputs": [
    {
     "data": {
      "text/html": [
       "<div>\n",
       "<style scoped>\n",
       "    .dataframe tbody tr th:only-of-type {\n",
       "        vertical-align: middle;\n",
       "    }\n",
       "\n",
       "    .dataframe tbody tr th {\n",
       "        vertical-align: top;\n",
       "    }\n",
       "\n",
       "    .dataframe thead th {\n",
       "        text-align: right;\n",
       "    }\n",
       "</style>\n",
       "<table border=\"1\" class=\"dataframe\">\n",
       "  <thead>\n",
       "    <tr style=\"text-align: right;\">\n",
       "      <th></th>\n",
       "      <th>country</th>\n",
       "      <th>income</th>\n",
       "      <th>child_per_woman</th>\n",
       "      <th>life_expectancy</th>\n",
       "      <th>happiness_score</th>\n",
       "      <th>hdi</th>\n",
       "      <th>continent</th>\n",
       "    </tr>\n",
       "  </thead>\n",
       "  <tbody>\n",
       "  </tbody>\n",
       "</table>\n",
       "</div>"
      ],
      "text/plain": [
       "Empty DataFrame\n",
       "Columns: [country, income, child_per_woman, life_expectancy, happiness_score, hdi, continent]\n",
       "Index: []"
      ]
     },
     "execution_count": 73,
     "metadata": {},
     "output_type": "execute_result"
    }
   ],
   "source": [
    "df_18[df_18['continent'] == 'None'] #This should not display any row value. i.e. all countries were successfully assigned to a continent."
   ]
  },
  {
   "cell_type": "code",
   "execution_count": 74,
   "metadata": {},
   "outputs": [],
   "source": [
    "# To return the continent with the highest income, we must first group country column to their respective continent\n",
    "# Thus, I'll first define the seven continents as a list\n",
    "asia = ['Afghanistan', 'Armenia', 'Azerbaijan', 'Bahrain', 'Lao', 'Bangladesh', 'Kyrgyz Republic', 'Bhutan', 'British Indian Ocean Territory', 'Brunei', 'Cambodia', 'Hong Kong, China', 'China', 'Cyprus', 'Egypt', 'Georgia', 'Hong Kong', 'India', 'Indonesia', 'Iran', 'Iraq', 'Israel', 'Japan', 'Jordan', 'Kazakhstan', 'Kuwait', 'Kyrgyzstan', 'Laos', 'Lebanon', 'Macau', 'Malaysia', 'Maldives', 'Mongolia', 'Myanmar', 'Nepal', 'North Korea', 'Oman', 'Pakistan', 'Palestine', 'Philippines', 'Qatar', 'Russia', 'Saudi Arabia', 'Singapore', 'South Korea', 'Sri Lanka', 'Syria', 'Taiwan', 'Tajikistan', 'Thailand', 'Timor-Leste', 'East Timor', 'Turkey', 'Turkmenistan', 'United Arab Emirates', 'Uzbekistan', 'Vietnam', 'Yemen']\n",
    "africa = ['Algeria', 'Angola', 'Benin', 'Botswana', 'Burkina Faso', 'Burundi', 'Cape Verde', 'Cameroon', 'Central African Republic', 'Chad', 'Comoros', 'Congo', 'Congo, Rep.', 'Djibouti', 'Egypt', 'Equatorial Guinea', 'Eritrea', 'Eswatini', 'Ethiopia', 'Gabon', 'Gambia', 'Ghana', 'Guinea', 'Guinea-Bissau', 'Ivory Coast', \"Cote d'Ivoire\", 'Kenya', 'Lesotho', 'Liberia', 'Libya', 'Madagascar', 'Malawi', 'Mali', 'Mauritania', 'Mauritius', 'Morocco', 'Mozambique', 'Namibia', 'Niger', 'Nigeria', 'Rwanda', 'Sao Tome and Principe', 'Senegal', 'Seychelles', 'Sierra Leone', 'Somalia', 'South Africa', 'South Sudan', 'Sudan', 'Tanzania', 'Togo', 'Tunisia', 'Uganda', 'Zambia', 'Zimbabwe']\n",
    "europe = ['Albania', 'Andorra', 'Armenia', 'Austria', 'Azerbaijan', 'Slovak Republic', 'Belarus', 'Belgium', 'Bosnia and Herzegovina', 'Bulgaria', 'Croatia', 'Cyprus', 'Czechia', 'Czech Republic', 'Denmark', 'Estonia', 'Finland', 'France', 'Georgia', 'Germany', 'Greece', 'Hungary', 'Iceland', 'Ireland', 'Italy', 'Kazakhstan', 'Latvia', 'Liechtenstein', 'Lithuania', 'Luxembourg', 'Malta', 'Moldova', 'Monaco', 'Montenegro', 'Netherlands', 'North Macedonia', 'Norway', 'Poland', 'Portugal', 'Romania', 'Russia', 'San Marino', 'Serbia', 'Slovakia', 'Slovenia', 'Spain', 'Sweden', 'Switzerland', 'Turkey', 'Ukraine', 'United Kingdom', 'Vatican City']\n",
    "north_america =['Antigua and Barbuda', 'Bahamas', 'Barbados', 'Belize', 'Canada', 'Costa Rica', 'Cuba', 'Dominica', 'Dominican Republic', 'El Salvador', 'Grenada', 'Guatemala', 'Haiti', 'Honduras', 'Jamaica', 'Mexico', 'Nicaragua', 'Panama', 'Saint Kitts and Nevis', 'Saint Lucia', 'Saint Vincent and the Grenadines', 'Trinidad and Tobago', 'United States']\n",
    "south_america = ['Argentina', 'Bolivia', 'Brazil', 'Chile', 'Colombia', 'Ecuador', 'Guyana', 'Paraguay', 'Peru', 'Suriname', 'Uruguay', 'Venezuela']\n",
    "oceania = ['Australia', 'Fiji', 'Kiribati', 'Marshall Islands', 'Micronesia', 'Nauru', 'New Zealand', 'Palau', 'Papua New', 'Guinea', 'Samoa', 'Solomon Islands', 'Tonga', 'Tuvalu', 'Vanuatu']\n",
    "\n",
    "# I will get a list of all the countries on the df_18 dataframe\n",
    "row = list(df_08['country'])\n",
    "\n",
    "# Use a function to group countries to different continent\n",
    "def continent(row):\n",
    "    if row['country'] in asia:\n",
    "        return 'Asia'\n",
    "    elif row['country'] in africa:\n",
    "        return 'Africa'\n",
    "    elif row['country'] in europe:\n",
    "        return 'Europe'\n",
    "    elif row['country'] in north_america:\n",
    "        return 'North_america'\n",
    "    elif row['country'] in south_america:\n",
    "        return 'South_america'\n",
    "    elif row['country'] in oceania:\n",
    "        return 'Oceania'\n",
    "    else:\n",
    "        return 'None'\n",
    "    \n",
    "#crosscheck = df_18.apply (lambda row: continent(row), axis=1)\n",
    "#crosscheck\n",
    "df_08['continent'] = df_08.apply (lambda row: continent(row), axis=1)"
   ]
  },
  {
   "cell_type": "code",
   "execution_count": 76,
   "metadata": {},
   "outputs": [
    {
     "data": {
      "text/html": [
       "<div>\n",
       "<style scoped>\n",
       "    .dataframe tbody tr th:only-of-type {\n",
       "        vertical-align: middle;\n",
       "    }\n",
       "\n",
       "    .dataframe tbody tr th {\n",
       "        vertical-align: top;\n",
       "    }\n",
       "\n",
       "    .dataframe thead th {\n",
       "        text-align: right;\n",
       "    }\n",
       "</style>\n",
       "<table border=\"1\" class=\"dataframe\">\n",
       "  <thead>\n",
       "    <tr style=\"text-align: right;\">\n",
       "      <th></th>\n",
       "      <th>country</th>\n",
       "      <th>income</th>\n",
       "      <th>child_per_woman</th>\n",
       "      <th>life_expectancy</th>\n",
       "      <th>happiness_score</th>\n",
       "      <th>hdi</th>\n",
       "      <th>continent</th>\n",
       "    </tr>\n",
       "  </thead>\n",
       "  <tbody>\n",
       "    <tr>\n",
       "      <th>0</th>\n",
       "      <td>Afghanistan</td>\n",
       "      <td>1480</td>\n",
       "      <td>6</td>\n",
       "      <td>59.2</td>\n",
       "      <td>37.2</td>\n",
       "      <td>0.447</td>\n",
       "      <td>Asia</td>\n",
       "    </tr>\n",
       "    <tr>\n",
       "      <th>3</th>\n",
       "      <td>Argentina</td>\n",
       "      <td>23100</td>\n",
       "      <td>2</td>\n",
       "      <td>75.7</td>\n",
       "      <td>59.6</td>\n",
       "      <td>0.821</td>\n",
       "      <td>South_america</td>\n",
       "    </tr>\n",
       "  </tbody>\n",
       "</table>\n",
       "</div>"
      ],
      "text/plain": [
       "       country  income  child_per_woman  life_expectancy  happiness_score  \\\n",
       "0  Afghanistan    1480                6             59.2             37.2   \n",
       "3    Argentina   23100                2             75.7             59.6   \n",
       "\n",
       "     hdi      continent  \n",
       "0  0.447           Asia  \n",
       "3  0.821  South_america  "
      ]
     },
     "execution_count": 76,
     "metadata": {},
     "output_type": "execute_result"
    }
   ],
   "source": [
    "df_08.head(2)"
   ]
  },
  {
   "cell_type": "code",
   "execution_count": 78,
   "metadata": {},
   "outputs": [
    {
     "data": {
      "text/html": [
       "<div>\n",
       "<style scoped>\n",
       "    .dataframe tbody tr th:only-of-type {\n",
       "        vertical-align: middle;\n",
       "    }\n",
       "\n",
       "    .dataframe tbody tr th {\n",
       "        vertical-align: top;\n",
       "    }\n",
       "\n",
       "    .dataframe thead th {\n",
       "        text-align: right;\n",
       "    }\n",
       "</style>\n",
       "<table border=\"1\" class=\"dataframe\">\n",
       "  <thead>\n",
       "    <tr style=\"text-align: right;\">\n",
       "      <th></th>\n",
       "      <th>country</th>\n",
       "      <th>income</th>\n",
       "      <th>child_per_woman</th>\n",
       "      <th>life_expectancy</th>\n",
       "      <th>happiness_score</th>\n",
       "      <th>hdi</th>\n",
       "      <th>continent</th>\n",
       "    </tr>\n",
       "  </thead>\n",
       "  <tbody>\n",
       "  </tbody>\n",
       "</table>\n",
       "</div>"
      ],
      "text/plain": [
       "Empty DataFrame\n",
       "Columns: [country, income, child_per_woman, life_expectancy, happiness_score, hdi, continent]\n",
       "Index: []"
      ]
     },
     "execution_count": 78,
     "metadata": {},
     "output_type": "execute_result"
    }
   ],
   "source": [
    "df_08[df_08['continent'] == 'None'] #This should not display any row value"
   ]
  },
  {
   "cell_type": "code",
   "execution_count": 126,
   "metadata": {},
   "outputs": [],
   "source": [
    "continent_share = df_18.groupby(['continent'], as_index=False)['income'].mean()"
   ]
  },
  {
   "cell_type": "code",
   "execution_count": 129,
   "metadata": {},
   "outputs": [
    {
     "data": {
      "text/html": [
       "<div>\n",
       "<style scoped>\n",
       "    .dataframe tbody tr th:only-of-type {\n",
       "        vertical-align: middle;\n",
       "    }\n",
       "\n",
       "    .dataframe tbody tr th {\n",
       "        vertical-align: top;\n",
       "    }\n",
       "\n",
       "    .dataframe thead th {\n",
       "        text-align: right;\n",
       "    }\n",
       "</style>\n",
       "<table border=\"1\" class=\"dataframe\">\n",
       "  <thead>\n",
       "    <tr style=\"text-align: right;\">\n",
       "      <th></th>\n",
       "      <th>continent</th>\n",
       "      <th>income</th>\n",
       "    </tr>\n",
       "  </thead>\n",
       "  <tbody>\n",
       "    <tr>\n",
       "      <th>4</th>\n",
       "      <td>Oceania</td>\n",
       "      <td>46250.0</td>\n",
       "    </tr>\n",
       "  </tbody>\n",
       "</table>\n",
       "</div>"
      ],
      "text/plain": [
       "  continent   income\n",
       "4   Oceania  46250.0"
      ]
     },
     "execution_count": 129,
     "metadata": {},
     "output_type": "execute_result"
    }
   ],
   "source": [
    "continent_share.iloc[continent_share.income.argsort()[-1:]]"
   ]
  },
  {
   "cell_type": "markdown",
   "metadata": {},
   "source": [
    "**Oceania** is the continent with the highest income on Average"
   ]
  },
  {
   "cell_type": "markdown",
   "metadata": {},
   "source": [
    "### Which African countries had the lowest income in 2018?"
   ]
  },
  {
   "cell_type": "code",
   "execution_count": 90,
   "metadata": {},
   "outputs": [],
   "source": [
    "african_countries = df_18[df_18['continent']== 'Africa']"
   ]
  },
  {
   "cell_type": "code",
   "execution_count": 94,
   "metadata": {},
   "outputs": [
    {
     "data": {
      "text/html": [
       "<div>\n",
       "<style scoped>\n",
       "    .dataframe tbody tr th:only-of-type {\n",
       "        vertical-align: middle;\n",
       "    }\n",
       "\n",
       "    .dataframe tbody tr th {\n",
       "        vertical-align: top;\n",
       "    }\n",
       "\n",
       "    .dataframe thead th {\n",
       "        text-align: right;\n",
       "    }\n",
       "</style>\n",
       "<table border=\"1\" class=\"dataframe\">\n",
       "  <thead>\n",
       "    <tr style=\"text-align: right;\">\n",
       "      <th></th>\n",
       "      <th>country</th>\n",
       "      <th>income</th>\n",
       "      <th>child_per_woman</th>\n",
       "      <th>life_expectancy</th>\n",
       "      <th>happiness_score</th>\n",
       "      <th>hdi</th>\n",
       "      <th>continent</th>\n",
       "    </tr>\n",
       "  </thead>\n",
       "  <tbody>\n",
       "    <tr>\n",
       "      <th>8</th>\n",
       "      <td>Burundi</td>\n",
       "      <td>762</td>\n",
       "      <td>6</td>\n",
       "      <td>63.4</td>\n",
       "      <td>37.8</td>\n",
       "      <td>0.431</td>\n",
       "      <td>Africa</td>\n",
       "    </tr>\n",
       "    <tr>\n",
       "      <th>93</th>\n",
       "      <td>Malawi</td>\n",
       "      <td>1040</td>\n",
       "      <td>4</td>\n",
       "      <td>64.1</td>\n",
       "      <td>33.3</td>\n",
       "      <td>0.478</td>\n",
       "      <td>Africa</td>\n",
       "    </tr>\n",
       "    <tr>\n",
       "      <th>96</th>\n",
       "      <td>Niger</td>\n",
       "      <td>1200</td>\n",
       "      <td>7</td>\n",
       "      <td>62.0</td>\n",
       "      <td>51.6</td>\n",
       "      <td>0.391</td>\n",
       "      <td>Africa</td>\n",
       "    </tr>\n",
       "  </tbody>\n",
       "</table>\n",
       "</div>"
      ],
      "text/plain": [
       "    country  income  child_per_woman  life_expectancy  happiness_score    hdi  \\\n",
       "8   Burundi     762                6             63.4             37.8  0.431   \n",
       "93   Malawi    1040                4             64.1             33.3  0.478   \n",
       "96    Niger    1200                7             62.0             51.6  0.391   \n",
       "\n",
       "   continent  \n",
       "8     Africa  \n",
       "93    Africa  \n",
       "96    Africa  "
      ]
     },
     "execution_count": 94,
     "metadata": {},
     "output_type": "execute_result"
    }
   ],
   "source": [
    "african_countries.iloc[african_countries.income.argsort()[:3]]"
   ]
  },
  {
   "cell_type": "markdown",
   "metadata": {},
   "source": [
    "The poorest countries in Africa are:\n",
    "1. Burundi with an Average income of 762\n",
    "2. Malawi with an Average income of 1040\n",
    "3. Niger with an Average income of 1200"
   ]
  },
  {
   "cell_type": "markdown",
   "metadata": {},
   "source": [
    "### Which country's income improved the most in 2018 compared to 2008?"
   ]
  },
  {
   "cell_type": "markdown",
   "metadata": {},
   "source": [
    "To make comparison between both tables, I will merge both tables hereby working with only countries available in both the 2008  and 2018 tables."
   ]
  },
  {
   "cell_type": "code",
   "execution_count": 96,
   "metadata": {},
   "outputs": [],
   "source": [
    "df_08.rename(columns=lambda x: x[:10] + \"_2008\", inplace=True)"
   ]
  },
  {
   "cell_type": "code",
   "execution_count": 97,
   "metadata": {},
   "outputs": [
    {
     "data": {
      "text/html": [
       "<div>\n",
       "<style scoped>\n",
       "    .dataframe tbody tr th:only-of-type {\n",
       "        vertical-align: middle;\n",
       "    }\n",
       "\n",
       "    .dataframe tbody tr th {\n",
       "        vertical-align: top;\n",
       "    }\n",
       "\n",
       "    .dataframe thead th {\n",
       "        text-align: right;\n",
       "    }\n",
       "</style>\n",
       "<table border=\"1\" class=\"dataframe\">\n",
       "  <thead>\n",
       "    <tr style=\"text-align: right;\">\n",
       "      <th></th>\n",
       "      <th>country_2008</th>\n",
       "      <th>income_2008</th>\n",
       "      <th>child_per__2008</th>\n",
       "      <th>life_expec_2008</th>\n",
       "      <th>happiness__2008</th>\n",
       "      <th>hdi_2008</th>\n",
       "      <th>continent_2008</th>\n",
       "    </tr>\n",
       "  </thead>\n",
       "  <tbody>\n",
       "    <tr>\n",
       "      <th>0</th>\n",
       "      <td>Afghanistan</td>\n",
       "      <td>1480</td>\n",
       "      <td>6</td>\n",
       "      <td>59.2</td>\n",
       "      <td>37.2</td>\n",
       "      <td>0.447</td>\n",
       "      <td>Asia</td>\n",
       "    </tr>\n",
       "    <tr>\n",
       "      <th>3</th>\n",
       "      <td>Argentina</td>\n",
       "      <td>23100</td>\n",
       "      <td>2</td>\n",
       "      <td>75.7</td>\n",
       "      <td>59.6</td>\n",
       "      <td>0.821</td>\n",
       "      <td>South_america</td>\n",
       "    </tr>\n",
       "    <tr>\n",
       "      <th>4</th>\n",
       "      <td>Armenia</td>\n",
       "      <td>10500</td>\n",
       "      <td>1</td>\n",
       "      <td>73.5</td>\n",
       "      <td>46.5</td>\n",
       "      <td>0.745</td>\n",
       "      <td>Asia</td>\n",
       "    </tr>\n",
       "    <tr>\n",
       "      <th>5</th>\n",
       "      <td>Australia</td>\n",
       "      <td>45000</td>\n",
       "      <td>2</td>\n",
       "      <td>81.7</td>\n",
       "      <td>72.5</td>\n",
       "      <td>0.926</td>\n",
       "      <td>Oceania</td>\n",
       "    </tr>\n",
       "    <tr>\n",
       "      <th>6</th>\n",
       "      <td>Austria</td>\n",
       "      <td>53300</td>\n",
       "      <td>1</td>\n",
       "      <td>80.5</td>\n",
       "      <td>71.8</td>\n",
       "      <td>0.893</td>\n",
       "      <td>Europe</td>\n",
       "    </tr>\n",
       "  </tbody>\n",
       "</table>\n",
       "</div>"
      ],
      "text/plain": [
       "  country_2008  income_2008  child_per__2008  life_expec_2008  \\\n",
       "0  Afghanistan         1480                6             59.2   \n",
       "3    Argentina        23100                2             75.7   \n",
       "4      Armenia        10500                1             73.5   \n",
       "5    Australia        45000                2             81.7   \n",
       "6      Austria        53300                1             80.5   \n",
       "\n",
       "   happiness__2008  hdi_2008 continent_2008  \n",
       "0             37.2     0.447           Asia  \n",
       "3             59.6     0.821  South_america  \n",
       "4             46.5     0.745           Asia  \n",
       "5             72.5     0.926        Oceania  \n",
       "6             71.8     0.893         Europe  "
      ]
     },
     "execution_count": 97,
     "metadata": {},
     "output_type": "execute_result"
    }
   ],
   "source": [
    "df_08.head()"
   ]
  },
  {
   "cell_type": "code",
   "execution_count": 98,
   "metadata": {},
   "outputs": [],
   "source": [
    "combined = df_08.merge(df_18, left_on = 'country_2008', right_on = 'country', how= 'inner', left_index=False, right_index=False)"
   ]
  },
  {
   "cell_type": "code",
   "execution_count": 99,
   "metadata": {
    "scrolled": false
   },
   "outputs": [
    {
     "data": {
      "text/html": [
       "<div>\n",
       "<style scoped>\n",
       "    .dataframe tbody tr th:only-of-type {\n",
       "        vertical-align: middle;\n",
       "    }\n",
       "\n",
       "    .dataframe tbody tr th {\n",
       "        vertical-align: top;\n",
       "    }\n",
       "\n",
       "    .dataframe thead th {\n",
       "        text-align: right;\n",
       "    }\n",
       "</style>\n",
       "<table border=\"1\" class=\"dataframe\">\n",
       "  <thead>\n",
       "    <tr style=\"text-align: right;\">\n",
       "      <th></th>\n",
       "      <th>country_2008</th>\n",
       "      <th>income_2008</th>\n",
       "      <th>child_per__2008</th>\n",
       "      <th>life_expec_2008</th>\n",
       "      <th>happiness__2008</th>\n",
       "      <th>hdi_2008</th>\n",
       "      <th>continent_2008</th>\n",
       "      <th>country</th>\n",
       "      <th>income</th>\n",
       "      <th>child_per_woman</th>\n",
       "      <th>life_expectancy</th>\n",
       "      <th>happiness_score</th>\n",
       "      <th>hdi</th>\n",
       "      <th>continent</th>\n",
       "    </tr>\n",
       "  </thead>\n",
       "  <tbody>\n",
       "    <tr>\n",
       "      <th>0</th>\n",
       "      <td>Afghanistan</td>\n",
       "      <td>1480</td>\n",
       "      <td>6</td>\n",
       "      <td>59.2</td>\n",
       "      <td>37.2</td>\n",
       "      <td>0.447</td>\n",
       "      <td>Asia</td>\n",
       "      <td>Afghanistan</td>\n",
       "      <td>2030</td>\n",
       "      <td>4</td>\n",
       "      <td>62.7</td>\n",
       "      <td>26.9</td>\n",
       "      <td>0.509</td>\n",
       "      <td>Asia</td>\n",
       "    </tr>\n",
       "    <tr>\n",
       "      <th>1</th>\n",
       "      <td>Argentina</td>\n",
       "      <td>23100</td>\n",
       "      <td>2</td>\n",
       "      <td>75.7</td>\n",
       "      <td>59.6</td>\n",
       "      <td>0.821</td>\n",
       "      <td>South_america</td>\n",
       "      <td>Argentina</td>\n",
       "      <td>22800</td>\n",
       "      <td>2</td>\n",
       "      <td>76.5</td>\n",
       "      <td>57.9</td>\n",
       "      <td>0.842</td>\n",
       "      <td>South_america</td>\n",
       "    </tr>\n",
       "    <tr>\n",
       "      <th>2</th>\n",
       "      <td>Armenia</td>\n",
       "      <td>10500</td>\n",
       "      <td>1</td>\n",
       "      <td>73.5</td>\n",
       "      <td>46.5</td>\n",
       "      <td>0.745</td>\n",
       "      <td>Asia</td>\n",
       "      <td>Armenia</td>\n",
       "      <td>12700</td>\n",
       "      <td>2</td>\n",
       "      <td>75.6</td>\n",
       "      <td>50.6</td>\n",
       "      <td>0.771</td>\n",
       "      <td>Asia</td>\n",
       "    </tr>\n",
       "    <tr>\n",
       "      <th>3</th>\n",
       "      <td>Australia</td>\n",
       "      <td>45000</td>\n",
       "      <td>2</td>\n",
       "      <td>81.7</td>\n",
       "      <td>72.5</td>\n",
       "      <td>0.926</td>\n",
       "      <td>Oceania</td>\n",
       "      <td>Australia</td>\n",
       "      <td>49300</td>\n",
       "      <td>2</td>\n",
       "      <td>82.9</td>\n",
       "      <td>71.8</td>\n",
       "      <td>0.943</td>\n",
       "      <td>Oceania</td>\n",
       "    </tr>\n",
       "    <tr>\n",
       "      <th>4</th>\n",
       "      <td>Austria</td>\n",
       "      <td>53300</td>\n",
       "      <td>1</td>\n",
       "      <td>80.5</td>\n",
       "      <td>71.8</td>\n",
       "      <td>0.893</td>\n",
       "      <td>Europe</td>\n",
       "      <td>Austria</td>\n",
       "      <td>55500</td>\n",
       "      <td>2</td>\n",
       "      <td>82.1</td>\n",
       "      <td>74.0</td>\n",
       "      <td>0.921</td>\n",
       "      <td>Europe</td>\n",
       "    </tr>\n",
       "  </tbody>\n",
       "</table>\n",
       "</div>"
      ],
      "text/plain": [
       "  country_2008  income_2008  child_per__2008  life_expec_2008  \\\n",
       "0  Afghanistan         1480                6             59.2   \n",
       "1    Argentina        23100                2             75.7   \n",
       "2      Armenia        10500                1             73.5   \n",
       "3    Australia        45000                2             81.7   \n",
       "4      Austria        53300                1             80.5   \n",
       "\n",
       "   happiness__2008  hdi_2008 continent_2008      country  income  \\\n",
       "0             37.2     0.447           Asia  Afghanistan    2030   \n",
       "1             59.6     0.821  South_america    Argentina   22800   \n",
       "2             46.5     0.745           Asia      Armenia   12700   \n",
       "3             72.5     0.926        Oceania    Australia   49300   \n",
       "4             71.8     0.893         Europe      Austria   55500   \n",
       "\n",
       "   child_per_woman  life_expectancy  happiness_score    hdi      continent  \n",
       "0                4             62.7             26.9  0.509           Asia  \n",
       "1                2             76.5             57.9  0.842  South_america  \n",
       "2                2             75.6             50.6  0.771           Asia  \n",
       "3                2             82.9             71.8  0.943        Oceania  \n",
       "4                2             82.1             74.0  0.921         Europe  "
      ]
     },
     "execution_count": 99,
     "metadata": {},
     "output_type": "execute_result"
    }
   ],
   "source": [
    "combined.head()"
   ]
  },
  {
   "cell_type": "code",
   "execution_count": 105,
   "metadata": {},
   "outputs": [],
   "source": [
    "income_info = combined[['country', 'income_2008', 'income']]"
   ]
  },
  {
   "cell_type": "code",
   "execution_count": 106,
   "metadata": {},
   "outputs": [
    {
     "data": {
      "text/html": [
       "<div>\n",
       "<style scoped>\n",
       "    .dataframe tbody tr th:only-of-type {\n",
       "        vertical-align: middle;\n",
       "    }\n",
       "\n",
       "    .dataframe tbody tr th {\n",
       "        vertical-align: top;\n",
       "    }\n",
       "\n",
       "    .dataframe thead th {\n",
       "        text-align: right;\n",
       "    }\n",
       "</style>\n",
       "<table border=\"1\" class=\"dataframe\">\n",
       "  <thead>\n",
       "    <tr style=\"text-align: right;\">\n",
       "      <th></th>\n",
       "      <th>country</th>\n",
       "      <th>income_2008</th>\n",
       "      <th>income</th>\n",
       "    </tr>\n",
       "  </thead>\n",
       "  <tbody>\n",
       "    <tr>\n",
       "      <th>0</th>\n",
       "      <td>Afghanistan</td>\n",
       "      <td>1480</td>\n",
       "      <td>2030</td>\n",
       "    </tr>\n",
       "    <tr>\n",
       "      <th>1</th>\n",
       "      <td>Argentina</td>\n",
       "      <td>23100</td>\n",
       "      <td>22800</td>\n",
       "    </tr>\n",
       "    <tr>\n",
       "      <th>2</th>\n",
       "      <td>Armenia</td>\n",
       "      <td>10500</td>\n",
       "      <td>12700</td>\n",
       "    </tr>\n",
       "    <tr>\n",
       "      <th>3</th>\n",
       "      <td>Australia</td>\n",
       "      <td>45000</td>\n",
       "      <td>49300</td>\n",
       "    </tr>\n",
       "    <tr>\n",
       "      <th>4</th>\n",
       "      <td>Austria</td>\n",
       "      <td>53300</td>\n",
       "      <td>55500</td>\n",
       "    </tr>\n",
       "  </tbody>\n",
       "</table>\n",
       "</div>"
      ],
      "text/plain": [
       "       country  income_2008  income\n",
       "0  Afghanistan         1480    2030\n",
       "1    Argentina        23100   22800\n",
       "2      Armenia        10500   12700\n",
       "3    Australia        45000   49300\n",
       "4      Austria        53300   55500"
      ]
     },
     "execution_count": 106,
     "metadata": {},
     "output_type": "execute_result"
    }
   ],
   "source": [
    "income_info.head()"
   ]
  },
  {
   "cell_type": "code",
   "execution_count": 107,
   "metadata": {},
   "outputs": [
    {
     "name": "stderr",
     "output_type": "stream",
     "text": [
      "C:\\Users\\Henry Adeyemi\\AppData\\Local\\Temp\\ipykernel_4288\\4196791062.py:1: SettingWithCopyWarning: \n",
      "A value is trying to be set on a copy of a slice from a DataFrame.\n",
      "Try using .loc[row_indexer,col_indexer] = value instead\n",
      "\n",
      "See the caveats in the documentation: https://pandas.pydata.org/pandas-docs/stable/user_guide/indexing.html#returning-a-view-versus-a-copy\n",
      "  income_info['income_change'] = income_info['income'] - income_info['income_2008']\n"
     ]
    }
   ],
   "source": [
    "income_info['income_change'] = income_info['income'] - income_info['income_2008']"
   ]
  },
  {
   "cell_type": "code",
   "execution_count": 116,
   "metadata": {},
   "outputs": [],
   "source": [
    "improved = income_info.income_change.max()"
   ]
  },
  {
   "cell_type": "code",
   "execution_count": 117,
   "metadata": {},
   "outputs": [
    {
     "data": {
      "text/html": [
       "<div>\n",
       "<style scoped>\n",
       "    .dataframe tbody tr th:only-of-type {\n",
       "        vertical-align: middle;\n",
       "    }\n",
       "\n",
       "    .dataframe tbody tr th {\n",
       "        vertical-align: top;\n",
       "    }\n",
       "\n",
       "    .dataframe thead th {\n",
       "        text-align: right;\n",
       "    }\n",
       "</style>\n",
       "<table border=\"1\" class=\"dataframe\">\n",
       "  <thead>\n",
       "    <tr style=\"text-align: right;\">\n",
       "      <th></th>\n",
       "      <th>country</th>\n",
       "      <th>income_2008</th>\n",
       "      <th>income</th>\n",
       "      <th>income_change</th>\n",
       "    </tr>\n",
       "  </thead>\n",
       "  <tbody>\n",
       "    <tr>\n",
       "      <th>37</th>\n",
       "      <td>Ireland</td>\n",
       "      <td>55700</td>\n",
       "      <td>83400</td>\n",
       "      <td>27700</td>\n",
       "    </tr>\n",
       "  </tbody>\n",
       "</table>\n",
       "</div>"
      ],
      "text/plain": [
       "    country  income_2008  income  income_change\n",
       "37  Ireland        55700   83400          27700"
      ]
     },
     "execution_count": 117,
     "metadata": {},
     "output_type": "execute_result"
    }
   ],
   "source": [
    "income_info[income_info['income_change'] == improved]"
   ]
  },
  {
   "cell_type": "markdown",
   "metadata": {},
   "source": [
    "Ireland's income per person increased drastically in 2018 when compared with 2008, the country must be doing something right."
   ]
  },
  {
   "cell_type": "code",
   "execution_count": 118,
   "metadata": {},
   "outputs": [],
   "source": [
    "declined = income_info.income_change.min()"
   ]
  },
  {
   "cell_type": "code",
   "execution_count": 119,
   "metadata": {},
   "outputs": [
    {
     "data": {
      "text/html": [
       "<div>\n",
       "<style scoped>\n",
       "    .dataframe tbody tr th:only-of-type {\n",
       "        vertical-align: middle;\n",
       "    }\n",
       "\n",
       "    .dataframe tbody tr th {\n",
       "        vertical-align: top;\n",
       "    }\n",
       "\n",
       "    .dataframe thead th {\n",
       "        text-align: right;\n",
       "    }\n",
       "</style>\n",
       "<table border=\"1\" class=\"dataframe\">\n",
       "  <thead>\n",
       "    <tr style=\"text-align: right;\">\n",
       "      <th></th>\n",
       "      <th>country</th>\n",
       "      <th>income_2008</th>\n",
       "      <th>income</th>\n",
       "      <th>income_change</th>\n",
       "    </tr>\n",
       "  </thead>\n",
       "  <tbody>\n",
       "    <tr>\n",
       "      <th>90</th>\n",
       "      <td>Venezuela</td>\n",
       "      <td>20700</td>\n",
       "      <td>12300</td>\n",
       "      <td>-8400</td>\n",
       "    </tr>\n",
       "  </tbody>\n",
       "</table>\n",
       "</div>"
      ],
      "text/plain": [
       "      country  income_2008  income  income_change\n",
       "90  Venezuela        20700   12300          -8400"
      ]
     },
     "execution_count": 119,
     "metadata": {},
     "output_type": "execute_result"
    }
   ],
   "source": [
    "income_info[income_info['income_change'] == declined]"
   ]
  },
  {
   "cell_type": "markdown",
   "metadata": {},
   "source": [
    "Venezuela's income per person on the other hand decreased drastically in 2018 when compared with 2008."
   ]
  },
  {
   "cell_type": "markdown",
   "metadata": {},
   "source": [
    "<a id='conclusions'></a>\n",
    "## Conclusions\n",
    "\n",
    "> This project analysed the income made in different countries and check for pattern with the Happiness_Score, Children Per Woman, Life Expectancy and the Human Development Index.\n",
    "\n",
    "> From the analysis we can deduce that the income per person in each country has an impact on other indicators except the child per woman (this reduced as the income increases)\n",
    "\n",
    "> Knowing the impact that the income per person in a country could have on the Human Development within the country is important for the growth of any country.\n",
    ">\n",
    ">> How could lower earning countries learn from those that earn significantly higher?\n",
    ">> What could the High earning countries do to help these lower earning countries?\n",
    ">> Some countries income decresed significantly compared to 2008. How did those countries get to that stage?\n",
    "\n",
    "These are some questions that we could dig further into, this is out of the scope of this project"
   ]
  },
  {
   "cell_type": "markdown",
   "metadata": {
    "collapsed": true
   },
   "source": [
    "### Thank You!!"
   ]
  }
 ],
 "metadata": {
  "kernelspec": {
   "display_name": "Python 3 (ipykernel)",
   "language": "python",
   "name": "python3"
  },
  "language_info": {
   "codemirror_mode": {
    "name": "ipython",
    "version": 3
   },
   "file_extension": ".py",
   "mimetype": "text/x-python",
   "name": "python",
   "nbconvert_exporter": "python",
   "pygments_lexer": "ipython3",
   "version": "3.9.12"
  }
 },
 "nbformat": 4,
 "nbformat_minor": 2
}
